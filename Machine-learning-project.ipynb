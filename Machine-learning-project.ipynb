{
 "cells": [
  {
   "cell_type": "markdown",
   "metadata": {},
   "source": [
    "### Soccer predictions\n",
    "With the kaggle soccer data set I wanted to make predictions of soccer matches outcomes. The soccer data set contains information about different European leagues with matches, teams and players. I will try to predict the match outcome win, loss or draw. \n",
    "\n",
    "The algorithms I am going to use are decision tree, random forest and naive bayes. I will try to compare these algorithms and figure out what has the best result. I am going to use team ratings, previous matches and betting odds for the prediction."
   ]
  },
  {
   "cell_type": "code",
   "execution_count": 1,
   "metadata": {},
   "outputs": [],
   "source": [
    "import sqlite3\n",
    "import pandas as pd\n",
    "import numpy as np\n",
    "import matplotlib.pyplot as plt\n",
    "\n",
    "conn = sqlite3.connect('database.sqlite')"
   ]
  },
  {
   "cell_type": "markdown",
   "metadata": {},
   "source": [
    "### Example queries\n",
    "Below are some example queries I did to get used to the data set and working with sqlite3.\n",
    "\n",
    "##### Countries and leagues\n",
    "First one query to select all the country's and all the leagues."
   ]
  },
  {
   "cell_type": "code",
   "execution_count": 2,
   "metadata": {},
   "outputs": [
    {
     "name": "stdout",
     "output_type": "stream",
     "text": [
      "[(1, 'Belgium'), (1729, 'England'), (4769, 'France'), (7809, 'Germany'), (10257, 'Italy'), (13274, 'Netherlands'), (15722, 'Poland'), (17642, 'Portugal'), (19694, 'Scotland'), (21518, 'Spain'), (24558, 'Switzerland')]\n",
      "\n",
      "\n",
      "[(1, 1, 'Belgium Jupiler League'), (1729, 1729, 'England Premier League'), (4769, 4769, 'France Ligue 1'), (7809, 7809, 'Germany 1. Bundesliga'), (10257, 10257, 'Italy Serie A'), (13274, 13274, 'Netherlands Eredivisie'), (15722, 15722, 'Poland Ekstraklasa'), (17642, 17642, 'Portugal Liga ZON Sagres'), (19694, 19694, 'Scotland Premier League'), (21518, 21518, 'Spain LIGA BBVA'), (24558, 24558, 'Switzerland Super League')]\n"
     ]
    }
   ],
   "source": [
    "c = conn.cursor()\n",
    "\n",
    "c.execute(\"SELECT * FROM country\")\n",
    "print(c.fetchall())\n",
    "\n",
    "print(\"\\n\")\n",
    "\n",
    "c.execute(\"SELECT * FROM league\")\n",
    "print(c.fetchall())"
   ]
  },
  {
   "cell_type": "markdown",
   "metadata": {},
   "source": [
    "##### Matches, players and player attributes\n",
    "Below examples queries to select one or more rows of the match, player and player attributes tables. As seen below not all fields are filled in in the rows. This is only on some rows."
   ]
  },
  {
   "cell_type": "code",
   "execution_count": 3,
   "metadata": {},
   "outputs": [
    {
     "name": "stdout",
     "output_type": "stream",
     "text": [
      "[(25979, 24558, 24558, '2015/2016', 9, '2015-09-23 00:00:00', 1992095, 10192, 9931, 4, 3, 1, 2, 4, 6, 8, 2, 4, 6, 8, 4, 6, 1, 2, 4, 6, 8, 4, 6, 3, 5, 7, 5, 1, 3, 3, 3, 3, 7, 7, 7, 7, 10, 10, 1, 3, 3, 3, 3, 6, 6, 8, 8, 8, 11, 274787, 492132, 108451, 25815, 94553, 384376, 598355, 36785, 45174, 302079, 71764, 156175, 95216, 172768, 22834, 458806, 207234, 25772, 40274, 34035, 41726, 527103, None, None, None, None, None, None, None, None, None, None, None, None, None, None, None, None, None, None, None, None, None, None, None, None, None, None, None, None, None, None, None, None, None, None, None, None, None, None)]\n",
      "\n",
      "\n",
      "[(1, 505942, 'Aaron Appindangoye', 218353, '1992-02-29 00:00:00', 182.88, 187)]\n",
      "\n",
      "\n",
      "[(1, 218353, 505942, '2016-02-18 00:00:00', 67, 71, 'right', 'medium', 'medium', 49, 44, 71, 61, 44, 51, 45, 39, 64, 49, 60, 64, 59, 47, 65, 55, 58, 54, 76, 35, 71, 70, 45, 54, 48, 65, 69, 69, 6, 11, 10, 8, 8)]\n"
     ]
    }
   ],
   "source": [
    "c.execute(\"SELECT * FROM match order by ID desc LIMIT 1\")\n",
    "print(c.fetchall())\n",
    "\n",
    "print(\"\\n\")\n",
    "\n",
    "c.execute(\"SELECT * FROM player LIMIT 1\")\n",
    "print(c.fetchall())\n",
    "\n",
    "print(\"\\n\")\n",
    "\n",
    "c.execute(\"SELECT * FROM player_attributes LIMIT 1\")\n",
    "print(c.fetchall())"
   ]
  },
  {
   "cell_type": "markdown",
   "metadata": {},
   "source": [
    "##### Teams and team attributes\n",
    "The last tables in the datset are team and team attributes. Below are the example queries I did."
   ]
  },
  {
   "cell_type": "code",
   "execution_count": 4,
   "metadata": {},
   "outputs": [
    {
     "name": "stdout",
     "output_type": "stream",
     "text": [
      "[(1, 9987, 673, 'KRC Genk', 'GEN')]\n",
      "\n",
      "\n",
      "[(1, 434, 9930, '2010-02-22 00:00:00', 60, 'Balanced', None, 'Little', 50, 'Mixed', 'Organised', 60, 'Normal', 65, 'Normal', 55, 'Normal', 'Organised', 50, 'Medium', 55, 'Press', 45, 'Normal', 'Cover')]\n"
     ]
    }
   ],
   "source": [
    "c.execute(\"SELECT * FROM team LIMIT 1\")\n",
    "print(c.fetchall())\n",
    "\n",
    "print(\"\\n\")\n",
    "\n",
    "c.execute(\"SELECT * FROM team_attributes LIMIT 1\")\n",
    "print(c.fetchall())"
   ]
  },
  {
   "cell_type": "markdown",
   "metadata": {},
   "source": [
    "### Queries for the algorithm\n",
    "The next step I wanted to take is getting the data that can influence the algorithm like won matches in the past period, total player stats and betting odds. I made the query below to test and find out how I can get the data I need."
   ]
  },
  {
   "cell_type": "code",
   "execution_count": 5,
   "metadata": {},
   "outputs": [
    {
     "name": "stdout",
     "output_type": "stream",
     "text": [
      "[(1491, 3, 1, '2015/2016', 1), (1499, 3, 1, '2015/2016', 1), (1515, 0, 4, '2015/2016', 0), (1530, 0, 2, '2015/2016', 0), (1554, 0, 1, '2015/2016', 0), (1563, 0, 0, '2015/2016', 0), (1587, 3, 0, '2015/2016', 1), (1603, 2, 1, '2015/2016', 1), (1619, 1, 0, '2015/2016', 1), (1635, 6, 1, '2015/2016', 1), (1651, 3, 2, '2015/2016', 1), (1674, 4, 1, '2015/2016', 1), (1685, 2, 1, '2015/2016', 1), (1698, 2, 0, '2015/2016', 1), (1715, 3, 1, '2015/2016', 1)]\n"
     ]
    }
   ],
   "source": [
    "c.execute(\"SELECT match.id, home_team_goal, away_team_goal, season, home_team_goal > away_team_goal \" + \n",
    "          \"FROM team JOIN match ON team.team_api_id = match.home_team_api_id \" + \n",
    "          \"WHERE team.team_long_name = 'KRC Genk' AND season = '2015/2016'\")\n",
    "print(c.fetchall())"
   ]
  },
  {
   "cell_type": "markdown",
   "metadata": {},
   "source": [
    "### Converting to dataframes\n",
    "Because I like pandas better than SQL I wanted to change the tables into pandas dataframes."
   ]
  },
  {
   "cell_type": "code",
   "execution_count": 6,
   "metadata": {},
   "outputs": [],
   "source": [
    "teams = pd.read_sql(\"SELECT * FROM team\", conn)\n",
    "matches = pd.read_sql(\"SELECT * FROM match\", conn)\n",
    "players = pd.read_sql(\"SELECT * FROM player\", conn)\n",
    "players_stats = pd.read_sql(\"SELECT * FROM player_attributes\", conn)"
   ]
  },
  {
   "cell_type": "markdown",
   "metadata": {},
   "source": [
    "### Functions\n",
    "Because of the hard quering I wanted to make some functions to easily get the things I want in the algorithm. \n",
    "\n",
    "##### Rating function\n",
    "First I will make a function to get the rating of the home and away team of a match. The rating is based on player stats."
   ]
  },
  {
   "cell_type": "code",
   "execution_count": 7,
   "metadata": {},
   "outputs": [],
   "source": [
    "def get_rating_home(match):  \n",
    "    rating = 0\n",
    "    \n",
    "    for i in range(1,12):   \n",
    "        player_id = match['home_player_' + str(i)]\n",
    "        player = players_stats[players_stats['player_api_id'] == player_id]\n",
    "        if(not player.empty):\n",
    "            rating += player['overall_rating'].values[0]\n",
    "    return rating    \n",
    "\n",
    "def get_rating_away(match):  \n",
    "    rating = 0\n",
    "    \n",
    "    for i in range(1,12):   \n",
    "        player_id = match['away_player_' + str(i)]\n",
    "        player = players_stats[players_stats['player_api_id'] == player_id]\n",
    "        if(not player.empty):\n",
    "            rating += player['overall_rating'].values[0]\n",
    "    return rating    "
   ]
  },
  {
   "cell_type": "code",
   "execution_count": 8,
   "metadata": {},
   "outputs": [
    {
     "name": "stdout",
     "output_type": "stream",
     "text": [
      "Rating home team: 787.0\n",
      "Rating away team: 760.0\n"
     ]
    }
   ],
   "source": [
    "print(\"Rating home team: \" + str(get_rating_home(matches[matches['id'] == 1715].iloc[0])))\n",
    "print(\"Rating away team: \" + str(get_rating_away(matches[matches['id'] == 1715].iloc[0])))"
   ]
  },
  {
   "cell_type": "markdown",
   "metadata": {},
   "source": [
    "##### Last number of results function\n",
    "The next function I will create is the last number of results of a team. A date can be passed to the function to get the last number of matches before that specific date."
   ]
  },
  {
   "cell_type": "code",
   "execution_count": 9,
   "metadata": {},
   "outputs": [],
   "source": [
    "def get_last_x_results(team, x, date = None):\n",
    "    results = {\n",
    "        \"wins\": 0,\n",
    "        \"losses\": 0,\n",
    "        \"draws\": 0\n",
    "    }  \n",
    "    \n",
    "    team_api_id = team['team_api_id'].values[0]\n",
    "    \n",
    "    tempMatches = matches\n",
    "    if(date is not None):\n",
    "        tempMatches = tempMatches[tempMatches['date'] < date]\n",
    "    \n",
    "    sorted_matches = tempMatches.sort_values(['date'], ascending=False)\n",
    "    last_x_matches = sorted_matches[(sorted_matches['home_team_api_id'] == team_api_id) | \n",
    "                                    (sorted_matches['away_team_api_id'] == team_api_id)].head(x)\n",
    "    \n",
    "    for index, match in last_x_matches.iterrows():\n",
    "        if(match[\"home_team_api_id\"] == team_api_id):\n",
    "            if(match[\"home_team_goal\"] > match[\"away_team_goal\"]): results[\"wins\"] += 1 \n",
    "            elif(match[\"home_team_goal\"] < match[\"away_team_goal\"]): results[\"losses\"] += 1\n",
    "            else: results[\"draws\"] += 1\n",
    "        else:\n",
    "            if(match[\"away_team_goal\"] > match[\"home_team_goal\"]): results[\"wins\"] += 1\n",
    "            elif(match[\"away_team_goal\"] < match[\"home_team_goal\"]): results[\"losses\"] += 1\n",
    "            else: results[\"draws\"] += 1\n",
    "    \n",
    "    return results   "
   ]
  },
  {
   "cell_type": "code",
   "execution_count": 10,
   "metadata": {},
   "outputs": [
    {
     "name": "stdout",
     "output_type": "stream",
     "text": [
      "KRC Genk laatste 10: {'wins': 6, 'losses': 2, 'draws': 2}\n",
      "PSV laatste 5: {'wins': 5, 'losses': 0, 'draws': 0}\n",
      "PSV laatste 5 voor 12 juni 2016: {'wins': 4, 'losses': 1, 'draws': 0}\n"
     ]
    }
   ],
   "source": [
    "print(\"KRC Genk laatste 10: \" + str(get_last_x_results(teams[teams['id'] == 1], 10)))\n",
    "print(\"PSV laatste 5: \" + str(get_last_x_results(teams[teams['id'] == 26556], 5)))\n",
    "print(\"PSV laatste 5 voor 12 juni 2016: \" + str(get_last_x_results(teams[teams['id'] == 26556], 5, '2014-08-20')))"
   ]
  },
  {
   "cell_type": "markdown",
   "metadata": {},
   "source": [
    "##### Last number of results against team function\n",
    "Another imporant factor of winning the match is the previous results against a team. The following function will return the results of a team against another team. With this function a date can be passed to get the last number of matches before this date."
   ]
  },
  {
   "cell_type": "code",
   "execution_count": 11,
   "metadata": {},
   "outputs": [],
   "source": [
    "def get_last_x_results_against_team(team, team2, x, date = None):\n",
    "    results = {\n",
    "        \"wins\": 0,\n",
    "        \"losses\": 0,\n",
    "        \"draws\": 0\n",
    "    }\n",
    "    \n",
    "    team_api_id = team['team_api_id'].values[0]\n",
    "    team2_api_id = team2['team_api_id'].values[0]\n",
    "    \n",
    "    tempMatches = matches\n",
    "    if(date is not None):\n",
    "        tempMatches = tempMatches[tempMatches['date'] < date]\n",
    "    \n",
    "    sorted_matches = tempMatches.sort_values(['date'], ascending=False)\n",
    "    last_x_matches = sorted_matches[(sorted_matches['home_team_api_id'] == team_api_id) & \n",
    "                                    (sorted_matches['away_team_api_id'] == team2_api_id) |\n",
    "                                    (sorted_matches['home_team_api_id'] == team2_api_id) &\n",
    "                                    (sorted_matches['away_team_api_id'] == team_api_id)].head(x)\n",
    "    \n",
    "    for index, match in last_x_matches.iterrows():\n",
    "        if(match[\"home_team_api_id\"] == team_api_id):\n",
    "            if(match[\"home_team_goal\"] > match[\"away_team_goal\"]): results[\"wins\"] += 1 \n",
    "            elif(match[\"home_team_goal\"] < match[\"away_team_goal\"]): results[\"losses\"] += 1\n",
    "            else: results[\"draws\"] += 1\n",
    "        else:\n",
    "            if(match[\"away_team_goal\"] > match[\"home_team_goal\"]): results[\"wins\"] += 1\n",
    "            elif(match[\"away_team_goal\"] < match[\"home_team_goal\"]): results[\"losses\"] += 1\n",
    "            else: results[\"draws\"] += 1\n",
    "\n",
    "    return results "
   ]
  },
  {
   "cell_type": "code",
   "execution_count": 12,
   "metadata": {},
   "outputs": [
    {
     "data": {
      "text/html": [
       "<div>\n",
       "<style scoped>\n",
       "    .dataframe tbody tr th:only-of-type {\n",
       "        vertical-align: middle;\n",
       "    }\n",
       "\n",
       "    .dataframe tbody tr th {\n",
       "        vertical-align: top;\n",
       "    }\n",
       "\n",
       "    .dataframe thead th {\n",
       "        text-align: right;\n",
       "    }\n",
       "</style>\n",
       "<table border=\"1\" class=\"dataframe\">\n",
       "  <thead>\n",
       "    <tr style=\"text-align: right;\">\n",
       "      <th></th>\n",
       "      <th>id</th>\n",
       "      <th>team_api_id</th>\n",
       "      <th>team_fifa_api_id</th>\n",
       "      <th>team_long_name</th>\n",
       "      <th>team_short_name</th>\n",
       "    </tr>\n",
       "  </thead>\n",
       "  <tbody>\n",
       "    <tr>\n",
       "      <th>5</th>\n",
       "      <td>6</td>\n",
       "      <td>8635</td>\n",
       "      <td>229.0</td>\n",
       "      <td>RSC Anderlecht</td>\n",
       "      <td>AND</td>\n",
       "    </tr>\n",
       "  </tbody>\n",
       "</table>\n",
       "</div>"
      ],
      "text/plain": [
       "   id  team_api_id  team_fifa_api_id  team_long_name team_short_name\n",
       "5   6         8635             229.0  RSC Anderlecht             AND"
      ]
     },
     "execution_count": 12,
     "metadata": {},
     "output_type": "execute_result"
    }
   ],
   "source": [
    "teams[teams['team_long_name'].str.contains(\"Anderlecht\")]"
   ]
  },
  {
   "cell_type": "code",
   "execution_count": 13,
   "metadata": {},
   "outputs": [
    {
     "data": {
      "text/html": [
       "<div>\n",
       "<style scoped>\n",
       "    .dataframe tbody tr th:only-of-type {\n",
       "        vertical-align: middle;\n",
       "    }\n",
       "\n",
       "    .dataframe tbody tr th {\n",
       "        vertical-align: top;\n",
       "    }\n",
       "\n",
       "    .dataframe thead th {\n",
       "        text-align: right;\n",
       "    }\n",
       "</style>\n",
       "<table border=\"1\" class=\"dataframe\">\n",
       "  <thead>\n",
       "    <tr style=\"text-align: right;\">\n",
       "      <th></th>\n",
       "      <th>id</th>\n",
       "      <th>team_api_id</th>\n",
       "      <th>team_fifa_api_id</th>\n",
       "      <th>team_long_name</th>\n",
       "      <th>team_short_name</th>\n",
       "    </tr>\n",
       "  </thead>\n",
       "  <tbody>\n",
       "    <tr>\n",
       "      <th>161</th>\n",
       "      <td>26552</td>\n",
       "      <td>8593</td>\n",
       "      <td>245.0</td>\n",
       "      <td>Ajax</td>\n",
       "      <td>AJA</td>\n",
       "    </tr>\n",
       "  </tbody>\n",
       "</table>\n",
       "</div>"
      ],
      "text/plain": [
       "        id  team_api_id  team_fifa_api_id team_long_name team_short_name\n",
       "161  26552         8593             245.0           Ajax             AJA"
      ]
     },
     "execution_count": 13,
     "metadata": {},
     "output_type": "execute_result"
    }
   ],
   "source": [
    "teams[teams['team_long_name'] == 'Ajax']"
   ]
  },
  {
   "cell_type": "code",
   "execution_count": 14,
   "metadata": {},
   "outputs": [
    {
     "name": "stdout",
     "output_type": "stream",
     "text": [
      "KRC Genk tegen Anderlecht laatste 2: {'wins': 0, 'losses': 0, 'draws': 2}\n",
      "PSV tegen Ajax laatste 3: {'wins': 1, 'losses': 2, 'draws': 0}\n",
      "PSV tegen Ajax laatste 3 voor 2012-08-20: {'wins': 0, 'losses': 1, 'draws': 2}\n"
     ]
    }
   ],
   "source": [
    "print(\"KRC Genk tegen Anderlecht laatste 2: \" + str(get_last_x_results_against_team(teams[teams['id'] == 1], teams[teams['id'] == 6], 2)))\n",
    "print(\"PSV tegen Ajax laatste 3: \" + str(get_last_x_results_against_team(teams[teams['id'] == 26556], teams[teams['id'] == 26552], 3)))\n",
    "print(\"PSV tegen Ajax laatste 3 voor 2012-08-20: \" + str(get_last_x_results_against_team(teams[teams['id'] == 26556], teams[teams['id'] == 26552], 3, '2012-08-20')))"
   ]
  },
  {
   "cell_type": "markdown",
   "metadata": {},
   "source": [
    "##### Betting odds function\n",
    "The betting odds can be an influence on the match. It already has some kind of prediction and chances. I am not sure if I want to use this in the algorithm."
   ]
  },
  {
   "cell_type": "code",
   "execution_count": 15,
   "metadata": {},
   "outputs": [],
   "source": [
    "def get_betting_odds(match):  \n",
    "    betting_odds = []\n",
    "\n",
    "    betting_providers = ['B365', 'BW', 'IW', 'LB', 'PS', 'WH', 'SJ', 'VC', 'GB', 'BS']\n",
    "    for provider in betting_providers:\n",
    "        home = match[provider + 'H']\n",
    "        draw = match[provider + 'D']\n",
    "        away = match[provider + 'A']\n",
    "        betting_odds.append([provider, home, draw, away])\n",
    "    \n",
    "    return betting_odds   "
   ]
  },
  {
   "cell_type": "code",
   "execution_count": 16,
   "metadata": {},
   "outputs": [
    {
     "name": "stdout",
     "output_type": "stream",
     "text": [
      "Betting odds: [['B365', 1.83, 3.6, 4.2], ['BW', 1.78, 3.6, 4.4], ['IW', 1.8, 3.5, 4.2], ['LB', 1.85, 3.5, 4.2], ['PS', 1.88, 3.78, 4.39], ['WH', 1.83, 3.4, 4.0], ['SJ', nan, nan, nan], ['VC', 1.8, 3.7, 4.2], ['GB', nan, nan, nan], ['BS', nan, nan, nan]]\n"
     ]
    }
   ],
   "source": [
    "print(\"Betting odds: \" + str(get_betting_odds(matches.loc[matches['id'] == 1715].iloc[0])))"
   ]
  },
  {
   "cell_type": "markdown",
   "metadata": {},
   "source": [
    "##### Match result function\n",
    "The last function is the match result. It looks at the home and away goals and returns the match result of the home team. 2 is a win, 1 a loss and 0 a draw."
   ]
  },
  {
   "cell_type": "code",
   "execution_count": 17,
   "metadata": {},
   "outputs": [],
   "source": [
    "def get_match_result(match):  \n",
    "    if(match[\"home_team_goal\"] > match[\"away_team_goal\"]): return 2\n",
    "    elif(match[\"home_team_goal\"] < match[\"away_team_goal\"]): return 1\n",
    "    else: return 0"
   ]
  },
  {
   "cell_type": "code",
   "execution_count": 18,
   "metadata": {},
   "outputs": [
    {
     "name": "stdout",
     "output_type": "stream",
     "text": [
      "Match result: 2\n"
     ]
    }
   ],
   "source": [
    "print(\"Match result: \" + str(get_match_result(matches[matches['id'] == 1715].iloc[0])))"
   ]
  },
  {
   "cell_type": "markdown",
   "metadata": {},
   "source": [
    "### Creating the data\n",
    "The next step is to create the data. I will take 5000 rows of matches because the more I take the slower it gets. The function below loops through this matches and gets all the data I think I need for predicting the matches. This will be put into a new data frame called matches_custom."
   ]
  },
  {
   "cell_type": "code",
   "execution_count": 19,
   "metadata": {},
   "outputs": [
    {
     "data": {
      "text/html": [
       "<div>\n",
       "<style scoped>\n",
       "    .dataframe tbody tr th:only-of-type {\n",
       "        vertical-align: middle;\n",
       "    }\n",
       "\n",
       "    .dataframe tbody tr th {\n",
       "        vertical-align: top;\n",
       "    }\n",
       "\n",
       "    .dataframe thead th {\n",
       "        text-align: right;\n",
       "    }\n",
       "</style>\n",
       "<table border=\"1\" class=\"dataframe\">\n",
       "  <thead>\n",
       "    <tr style=\"text-align: right;\">\n",
       "      <th></th>\n",
       "      <th>home_team</th>\n",
       "      <th>away_team</th>\n",
       "      <th>previous_matches_home_wins</th>\n",
       "      <th>previous_matches_home_draws</th>\n",
       "      <th>previous_matches_home_losses</th>\n",
       "      <th>previous_matches_away_wins</th>\n",
       "      <th>previous_matches_away_draws</th>\n",
       "      <th>previous_matches_away_losses</th>\n",
       "      <th>previous_encounters_home_win</th>\n",
       "      <th>previous_encounters_home_draws</th>\n",
       "      <th>previous_encounters_home_losses</th>\n",
       "      <th>betting_odds</th>\n",
       "      <th>rating_home</th>\n",
       "      <th>rating_away</th>\n",
       "      <th>result</th>\n",
       "    </tr>\n",
       "  </thead>\n",
       "  <tbody>\n",
       "    <tr>\n",
       "      <th>20979</th>\n",
       "      <td>8597</td>\n",
       "      <td>9860</td>\n",
       "      <td>2</td>\n",
       "      <td>3</td>\n",
       "      <td>5</td>\n",
       "      <td>2</td>\n",
       "      <td>3</td>\n",
       "      <td>5</td>\n",
       "      <td>2</td>\n",
       "      <td>0</td>\n",
       "      <td>1</td>\n",
       "      <td>[[B365, 1.8, 3.6, 4.33], [BW, 1.65, 3.8, 4.25]...</td>\n",
       "      <td>699.0</td>\n",
       "      <td>696.0</td>\n",
       "      <td>2</td>\n",
       "    </tr>\n",
       "    <tr>\n",
       "      <th>20980</th>\n",
       "      <td>8426</td>\n",
       "      <td>9925</td>\n",
       "      <td>2</td>\n",
       "      <td>5</td>\n",
       "      <td>3</td>\n",
       "      <td>9</td>\n",
       "      <td>0</td>\n",
       "      <td>1</td>\n",
       "      <td>0</td>\n",
       "      <td>0</td>\n",
       "      <td>2</td>\n",
       "      <td>[[B365, 9.0, 5.0, 1.33], [BW, 8.0, 5.25, 1.28]...</td>\n",
       "      <td>688.0</td>\n",
       "      <td>794.0</td>\n",
       "      <td>1</td>\n",
       "    </tr>\n",
       "    <tr>\n",
       "      <th>20981</th>\n",
       "      <td>8649</td>\n",
       "      <td>8485</td>\n",
       "      <td>3</td>\n",
       "      <td>3</td>\n",
       "      <td>4</td>\n",
       "      <td>7</td>\n",
       "      <td>1</td>\n",
       "      <td>2</td>\n",
       "      <td>2</td>\n",
       "      <td>0</td>\n",
       "      <td>1</td>\n",
       "      <td>[[B365, 4.5, 3.8, 1.73], [BW, 3.6, 3.5, 1.85],...</td>\n",
       "      <td>682.0</td>\n",
       "      <td>734.0</td>\n",
       "      <td>0</td>\n",
       "    </tr>\n",
       "    <tr>\n",
       "      <th>20982</th>\n",
       "      <td>9800</td>\n",
       "      <td>8467</td>\n",
       "      <td>2</td>\n",
       "      <td>1</td>\n",
       "      <td>7</td>\n",
       "      <td>5</td>\n",
       "      <td>1</td>\n",
       "      <td>4</td>\n",
       "      <td>1</td>\n",
       "      <td>0</td>\n",
       "      <td>2</td>\n",
       "      <td>[[B365, 2.9, 3.1, 2.5], [BW, 2.7, 3.1, 2.45], ...</td>\n",
       "      <td>703.0</td>\n",
       "      <td>706.0</td>\n",
       "      <td>1</td>\n",
       "    </tr>\n",
       "    <tr>\n",
       "      <th>20983</th>\n",
       "      <td>8485</td>\n",
       "      <td>9938</td>\n",
       "      <td>6</td>\n",
       "      <td>2</td>\n",
       "      <td>2</td>\n",
       "      <td>6</td>\n",
       "      <td>2</td>\n",
       "      <td>2</td>\n",
       "      <td>2</td>\n",
       "      <td>0</td>\n",
       "      <td>1</td>\n",
       "      <td>[[B365, 2.05, 3.4, 3.5], [BW, 2.0, 3.3, 3.4], ...</td>\n",
       "      <td>732.0</td>\n",
       "      <td>708.0</td>\n",
       "      <td>0</td>\n",
       "    </tr>\n",
       "  </tbody>\n",
       "</table>\n",
       "</div>"
      ],
      "text/plain": [
       "      home_team away_team previous_matches_home_wins  \\\n",
       "20979      8597      9860                          2   \n",
       "20980      8426      9925                          2   \n",
       "20981      8649      8485                          3   \n",
       "20982      9800      8467                          2   \n",
       "20983      8485      9938                          6   \n",
       "\n",
       "      previous_matches_home_draws previous_matches_home_losses  \\\n",
       "20979                           3                            5   \n",
       "20980                           5                            3   \n",
       "20981                           3                            4   \n",
       "20982                           1                            7   \n",
       "20983                           2                            2   \n",
       "\n",
       "      previous_matches_away_wins previous_matches_away_draws  \\\n",
       "20979                          2                           3   \n",
       "20980                          9                           0   \n",
       "20981                          7                           1   \n",
       "20982                          5                           1   \n",
       "20983                          6                           2   \n",
       "\n",
       "      previous_matches_away_losses previous_encounters_home_win  \\\n",
       "20979                            5                            2   \n",
       "20980                            1                            0   \n",
       "20981                            2                            2   \n",
       "20982                            4                            1   \n",
       "20983                            2                            2   \n",
       "\n",
       "      previous_encounters_home_draws previous_encounters_home_losses  \\\n",
       "20979                              0                               1   \n",
       "20980                              0                               2   \n",
       "20981                              0                               1   \n",
       "20982                              0                               2   \n",
       "20983                              0                               1   \n",
       "\n",
       "                                            betting_odds  rating_home  \\\n",
       "20979  [[B365, 1.8, 3.6, 4.33], [BW, 1.65, 3.8, 4.25]...        699.0   \n",
       "20980  [[B365, 9.0, 5.0, 1.33], [BW, 8.0, 5.25, 1.28]...        688.0   \n",
       "20981  [[B365, 4.5, 3.8, 1.73], [BW, 3.6, 3.5, 1.85],...        682.0   \n",
       "20982  [[B365, 2.9, 3.1, 2.5], [BW, 2.7, 3.1, 2.45], ...        703.0   \n",
       "20983  [[B365, 2.05, 3.4, 3.5], [BW, 2.0, 3.3, 3.4], ...        732.0   \n",
       "\n",
       "       rating_away result  \n",
       "20979        696.0      2  \n",
       "20980        794.0      1  \n",
       "20981        734.0      0  \n",
       "20982        706.0      1  \n",
       "20983        708.0      0  "
      ]
     },
     "execution_count": 19,
     "metadata": {},
     "output_type": "execute_result"
    }
   ],
   "source": [
    "matches_custom = pd.DataFrame(columns=['home_team','away_team','previous_matches_home_wins','previous_matches_home_draws',\n",
    "                                       'previous_matches_home_losses','previous_matches_away_wins','previous_matches_away_draws',\n",
    "                                       'previous_matches_away_losses','previous_encounters_home_win','previous_encounters_home_draws',\n",
    "                                       'previous_encounters_home_losses','betting_odds','rating_home','rating_away','result'])\n",
    "\n",
    "for index, match in matches.tail(5000).iterrows():\n",
    "    last_results_home = get_last_x_results(teams[teams['team_api_id'] == match[\"home_team_api_id\"]], 10, match['date'])\n",
    "    last_results_away = get_last_x_results(teams[teams['team_api_id'] == match[\"away_team_api_id\"]], 10, match['date'])\n",
    "    last_results_against_other = get_last_x_results_against_team(teams[teams['team_api_id'] == match[\"home_team_api_id\"]], \n",
    "                                                      teams[teams['team_api_id'] == match[\"away_team_api_id\"]], 3, match['date'])\n",
    "    \n",
    "    matches_custom.loc[index] = [match[\"home_team_api_id\"], \n",
    "                      match[\"away_team_api_id\"], last_results_home[\"wins\"],last_results_home[\"draws\"],last_results_home[\"losses\"],\n",
    "                      last_results_away[\"wins\"],last_results_away[\"draws\"],last_results_away[\"losses\"],\n",
    "                      last_results_against_other['wins'],last_results_against_other['draws'],last_results_against_other['losses'],\n",
    "                      get_betting_odds(match),get_rating_home(match),get_rating_away(match),get_match_result(match)]\n",
    "\n",
    "matches_custom.head()"
   ]
  },
  {
   "cell_type": "code",
   "execution_count": 20,
   "metadata": {},
   "outputs": [
    {
     "data": {
      "text/html": [
       "<div>\n",
       "<style scoped>\n",
       "    .dataframe tbody tr th:only-of-type {\n",
       "        vertical-align: middle;\n",
       "    }\n",
       "\n",
       "    .dataframe tbody tr th {\n",
       "        vertical-align: top;\n",
       "    }\n",
       "\n",
       "    .dataframe thead th {\n",
       "        text-align: right;\n",
       "    }\n",
       "</style>\n",
       "<table border=\"1\" class=\"dataframe\">\n",
       "  <thead>\n",
       "    <tr style=\"text-align: right;\">\n",
       "      <th></th>\n",
       "      <th>home_team</th>\n",
       "      <th>away_team</th>\n",
       "      <th>previous_matches_home_wins</th>\n",
       "      <th>previous_matches_home_draws</th>\n",
       "      <th>previous_matches_home_losses</th>\n",
       "      <th>previous_matches_away_wins</th>\n",
       "      <th>previous_matches_away_draws</th>\n",
       "      <th>previous_matches_away_losses</th>\n",
       "      <th>previous_encounters_home_win</th>\n",
       "      <th>previous_encounters_home_draws</th>\n",
       "      <th>previous_encounters_home_losses</th>\n",
       "      <th>betting_odds</th>\n",
       "      <th>rating_home</th>\n",
       "      <th>rating_away</th>\n",
       "      <th>result</th>\n",
       "    </tr>\n",
       "  </thead>\n",
       "  <tbody>\n",
       "    <tr>\n",
       "      <th>25974</th>\n",
       "      <td>10190</td>\n",
       "      <td>10191</td>\n",
       "      <td>3</td>\n",
       "      <td>1</td>\n",
       "      <td>6</td>\n",
       "      <td>2</td>\n",
       "      <td>2</td>\n",
       "      <td>6</td>\n",
       "      <td>2</td>\n",
       "      <td>0</td>\n",
       "      <td>1</td>\n",
       "      <td>[[B365, nan, nan, nan], [BW, nan, nan, nan], [...</td>\n",
       "      <td>682.0</td>\n",
       "      <td>680.0</td>\n",
       "      <td>2</td>\n",
       "    </tr>\n",
       "    <tr>\n",
       "      <th>25975</th>\n",
       "      <td>9824</td>\n",
       "      <td>10199</td>\n",
       "      <td>1</td>\n",
       "      <td>3</td>\n",
       "      <td>6</td>\n",
       "      <td>4</td>\n",
       "      <td>3</td>\n",
       "      <td>3</td>\n",
       "      <td>0</td>\n",
       "      <td>1</td>\n",
       "      <td>2</td>\n",
       "      <td>[[B365, nan, nan, nan], [BW, nan, nan, nan], [...</td>\n",
       "      <td>666.0</td>\n",
       "      <td>715.0</td>\n",
       "      <td>1</td>\n",
       "    </tr>\n",
       "    <tr>\n",
       "      <th>25976</th>\n",
       "      <td>9956</td>\n",
       "      <td>10179</td>\n",
       "      <td>6</td>\n",
       "      <td>2</td>\n",
       "      <td>2</td>\n",
       "      <td>5</td>\n",
       "      <td>2</td>\n",
       "      <td>3</td>\n",
       "      <td>1</td>\n",
       "      <td>2</td>\n",
       "      <td>0</td>\n",
       "      <td>[[B365, nan, nan, nan], [BW, nan, nan, nan], [...</td>\n",
       "      <td>747.0</td>\n",
       "      <td>749.0</td>\n",
       "      <td>2</td>\n",
       "    </tr>\n",
       "    <tr>\n",
       "      <th>25977</th>\n",
       "      <td>7896</td>\n",
       "      <td>10243</td>\n",
       "      <td>2</td>\n",
       "      <td>0</td>\n",
       "      <td>6</td>\n",
       "      <td>3</td>\n",
       "      <td>3</td>\n",
       "      <td>4</td>\n",
       "      <td>0</td>\n",
       "      <td>0</td>\n",
       "      <td>0</td>\n",
       "      <td>[[B365, nan, nan, nan], [BW, nan, nan, nan], [...</td>\n",
       "      <td>607.0</td>\n",
       "      <td>714.0</td>\n",
       "      <td>0</td>\n",
       "    </tr>\n",
       "    <tr>\n",
       "      <th>25978</th>\n",
       "      <td>10192</td>\n",
       "      <td>9931</td>\n",
       "      <td>4</td>\n",
       "      <td>3</td>\n",
       "      <td>3</td>\n",
       "      <td>9</td>\n",
       "      <td>1</td>\n",
       "      <td>0</td>\n",
       "      <td>1</td>\n",
       "      <td>1</td>\n",
       "      <td>1</td>\n",
       "      <td>[[B365, nan, nan, nan], [BW, nan, nan, nan], [...</td>\n",
       "      <td>771.0</td>\n",
       "      <td>803.0</td>\n",
       "      <td>2</td>\n",
       "    </tr>\n",
       "  </tbody>\n",
       "</table>\n",
       "</div>"
      ],
      "text/plain": [
       "      home_team away_team previous_matches_home_wins  \\\n",
       "25974     10190     10191                          3   \n",
       "25975      9824     10199                          1   \n",
       "25976      9956     10179                          6   \n",
       "25977      7896     10243                          2   \n",
       "25978     10192      9931                          4   \n",
       "\n",
       "      previous_matches_home_draws previous_matches_home_losses  \\\n",
       "25974                           1                            6   \n",
       "25975                           3                            6   \n",
       "25976                           2                            2   \n",
       "25977                           0                            6   \n",
       "25978                           3                            3   \n",
       "\n",
       "      previous_matches_away_wins previous_matches_away_draws  \\\n",
       "25974                          2                           2   \n",
       "25975                          4                           3   \n",
       "25976                          5                           2   \n",
       "25977                          3                           3   \n",
       "25978                          9                           1   \n",
       "\n",
       "      previous_matches_away_losses previous_encounters_home_win  \\\n",
       "25974                            6                            2   \n",
       "25975                            3                            0   \n",
       "25976                            3                            1   \n",
       "25977                            4                            0   \n",
       "25978                            0                            1   \n",
       "\n",
       "      previous_encounters_home_draws previous_encounters_home_losses  \\\n",
       "25974                              0                               1   \n",
       "25975                              1                               2   \n",
       "25976                              2                               0   \n",
       "25977                              0                               0   \n",
       "25978                              1                               1   \n",
       "\n",
       "                                            betting_odds  rating_home  \\\n",
       "25974  [[B365, nan, nan, nan], [BW, nan, nan, nan], [...        682.0   \n",
       "25975  [[B365, nan, nan, nan], [BW, nan, nan, nan], [...        666.0   \n",
       "25976  [[B365, nan, nan, nan], [BW, nan, nan, nan], [...        747.0   \n",
       "25977  [[B365, nan, nan, nan], [BW, nan, nan, nan], [...        607.0   \n",
       "25978  [[B365, nan, nan, nan], [BW, nan, nan, nan], [...        771.0   \n",
       "\n",
       "       rating_away result  \n",
       "25974        680.0      2  \n",
       "25975        715.0      1  \n",
       "25976        749.0      2  \n",
       "25977        714.0      0  \n",
       "25978        803.0      2  "
      ]
     },
     "execution_count": 20,
     "metadata": {},
     "output_type": "execute_result"
    }
   ],
   "source": [
    "matches_custom.tail()"
   ]
  },
  {
   "cell_type": "markdown",
   "metadata": {},
   "source": [
    "### Exploring the data\n",
    "Next I will plot the some graphs of the data to explore the data and get interesting insights.\n",
    "\n",
    "##### Match results home"
   ]
  },
  {
   "cell_type": "code",
   "execution_count": 21,
   "metadata": {},
   "outputs": [
    {
     "name": "stdout",
     "output_type": "stream",
     "text": [
      "Counter({2: 2364, 1: 1469, 0: 1167})\n"
     ]
    },
    {
     "data": {
      "image/png": "[encoded data removed]",
      "text/plain": [
       "<Figure size 432x288 with 1 Axes>"
      ]
     },
     "metadata": {},
     "output_type": "display_data"
    }
   ],
   "source": [
    "from collections import Counter\n",
    "\n",
    "results = Counter(matches_custom['result'])\n",
    "\n",
    "print(results)\n",
    "\n",
    "# Data to plot\n",
    "labels = results\n",
    "labels['Win'] = labels.pop(2)\n",
    "labels['Draw'] = labels.pop(0)\n",
    "labels['Loss'] = labels.pop(1)\n",
    "\n",
    "sizes = results.values()\n",
    "colors = ['gold', 'yellowgreen', 'lightskyblue']\n",
    "explode = (0.1, 0, 0)  # explode 1st slice\n",
    " \n",
    "# Plot\n",
    "patches, texts = plt.pie(sizes, colors=colors, startangle=90)\n",
    "plt.legend(patches, labels, loc=\"best\")\n",
    "plt.axis('equal')\n",
    "plt.show()"
   ]
  },
  {
   "cell_type": "markdown",
   "metadata": {},
   "source": [
    "With above pie chart we can make the conclusion that the most home matches results in a win. 2 is a win for the home team, 1 is a lose for the home team and 0 is a draw.\n",
    "\n",
    "##### Match results with previous encounter wins"
   ]
  },
  {
   "cell_type": "code",
   "execution_count": 22,
   "metadata": {},
   "outputs": [
    {
     "name": "stdout",
     "output_type": "stream",
     "text": [
      "previous_encounters_home_win  result\n",
      "0                             2         869\n",
      "                              1         759\n",
      "                              0         508\n",
      "1                             2         761\n",
      "                              1         496\n",
      "                              0         395\n",
      "2                             2         532\n",
      "                              0         213\n",
      "                              1         178\n",
      "3                             2         202\n",
      "                              0          51\n",
      "                              1          36\n",
      "Name: result, dtype: int64\n"
     ]
    },
    {
     "data": {
      "image/png": "[encoded data removed]",
      "text/plain": [
       "<Figure size 432x288 with 1 Axes>"
      ]
     },
     "metadata": {},
     "output_type": "display_data"
    }
   ],
   "source": [
    "df = matches_custom.groupby('previous_encounters_home_win')['result'].value_counts()\n",
    "\n",
    "print(df)\n",
    "\n",
    "fig, ax = plt.subplots()\n",
    "p1 = plt.bar(['0 wins','1 wins','2 wins','3 wins'], df.loc[:,0].values, color='yellowgreen')\n",
    "p2 = plt.bar(['0 wins','1 wins','2 wins','3 wins'], df.loc[:,1].values, bottom=df.loc[:,0].values, color='lightskyblue')\n",
    "p3 = plt.bar(['0 wins','1 wins','2 wins','3 wins'], df.loc[:,2].values, bottom=df.loc[:,0].values+df.loc[:,1].values, color='gold')\n",
    "\n",
    "ax.legend((p1[0], p2[0], p3[0]), ('Draw', 'Loss', 'Win'))\n",
    "plt.show()"
   ]
  },
  {
   "cell_type": "markdown",
   "metadata": {},
   "source": [
    " Above bar chart shows on the x axis the number of previous wins against the other team the match is. The green part shows the outcome as wins, the orange is the outcome as losses and the blue part is the outcome as draws."
   ]
  },
  {
   "cell_type": "code",
   "execution_count": 23,
   "metadata": {},
   "outputs": [
    {
     "name": "stdout",
     "output_type": "stream",
     "text": [
      "551\n",
      "23\n",
      "25\n"
     ]
    }
   ],
   "source": [
    "df = matches_custom[matches_custom['previous_encounters_home_win'] + matches_custom['previous_encounters_home_draws'] + matches_custom['previous_encounters_home_losses'] == 0]\n",
    "print(df.shape[0])\n",
    "\n",
    "df = matches_custom[matches_custom['previous_matches_away_wins'] + matches_custom['previous_matches_away_draws'] + matches_custom['previous_matches_away_losses'] == 0]\n",
    "print(df.shape[0])\n",
    "\n",
    "df = matches_custom[matches_custom['previous_matches_home_wins'] + matches_custom['previous_matches_home_draws'] + matches_custom['previous_matches_home_losses'] == 0]\n",
    "print(df.shape[0])"
   ]
  },
  {
   "cell_type": "markdown",
   "metadata": {},
   "source": [
    "The problem with this is that not all matches have previous encounter this can be because the club promoted or that it is the begin of the dataset and has no matches before."
   ]
  },
  {
   "cell_type": "code",
   "execution_count": 24,
   "metadata": {},
   "outputs": [
    {
     "name": "stdout",
     "output_type": "stream",
     "text": [
      "previous_encounters_home_win  result\n",
      "0                             2         618\n",
      "                              1         595\n",
      "                              0         372\n",
      "1                             2         761\n",
      "                              1         496\n",
      "                              0         395\n",
      "2                             2         532\n",
      "                              0         213\n",
      "                              1         178\n",
      "3                             2         202\n",
      "                              0          51\n",
      "                              1          36\n",
      "Name: result, dtype: int64\n"
     ]
    },
    {
     "data": {
      "image/png": "[encoded data removed]",
      "text/plain": [
       "<Figure size 432x288 with 1 Axes>"
      ]
     },
     "metadata": {},
     "output_type": "display_data"
    }
   ],
   "source": [
    "\n",
    "df = matches_custom[matches_custom['previous_encounters_home_win'] + matches_custom['previous_encounters_home_draws'] + matches_custom['previous_encounters_home_losses'] != 0]\n",
    "df = df.groupby('previous_encounters_home_win')['result'].value_counts()\n",
    "\n",
    "print(df)\n",
    "\n",
    "fig, ax = plt.subplots()\n",
    "p1 = plt.bar(['0 wins','1 wins','2 wins','3 wins'], df.loc[:,0].values, color='yellowgreen')\n",
    "p2 = plt.bar(['0 wins','1 wins','2 wins','3 wins'], df.loc[:,1].values, bottom=df.loc[:,0].values, color='lightskyblue')\n",
    "p3 = plt.bar(['0 wins','1 wins','2 wins','3 wins'], df.loc[:,2].values, bottom=df.loc[:,0].values+df.loc[:,1].values, color='gold')\n",
    "\n",
    "ax.legend((p1[0], p2[0], p3[0]), ('Draw', 'Loss', 'Win'))\n",
    "plt.show()"
   ]
  },
  {
   "cell_type": "markdown",
   "metadata": {},
   "source": [
    "Above the values without previous matches against each other are filtered out. The losses part is now a little bit higher then the win part with 0 wins in previous matches."
   ]
  },
  {
   "cell_type": "markdown",
   "metadata": {},
   "source": [
    "### Metrics\n",
    "I choose to use the **accuracy** metric for my algorithm. This is because I want to predict the match as correctly as possible. It is not really interesting to calculate the True positives and False postives or True positives and False postives."
   ]
  },
  {
   "cell_type": "markdown",
   "metadata": {},
   "source": [
    "### Decision Tree\n",
    "The first algorithm I wanted to try out is decision tree. This algorithm will create a tree and tries to predict if the match outcome is a win, loss or draw. A tree has the risk of overfitting this is something I need to look out for."
   ]
  },
  {
   "cell_type": "code",
   "execution_count": 25,
   "metadata": {},
   "outputs": [],
   "source": [
    "matches_X = matches_custom[['rating_home','rating_away']]\n",
    "matches_y = matches_custom['result']\n",
    "matches_y = matches_y.astype('int')"
   ]
  },
  {
   "cell_type": "code",
   "execution_count": 26,
   "metadata": {},
   "outputs": [
    {
     "data": {
      "text/plain": [
       "((3750, 2), (3750,))"
      ]
     },
     "execution_count": 26,
     "metadata": {},
     "output_type": "execute_result"
    }
   ],
   "source": [
    "from sklearn.model_selection import train_test_split\n",
    "\n",
    "X_train, X_test, y_train, y_test = train_test_split(matches_X, matches_y, test_size=0.25, random_state=33)\n",
    "\n",
    "X_train.shape, y_train.shape"
   ]
  },
  {
   "cell_type": "code",
   "execution_count": 27,
   "metadata": {},
   "outputs": [],
   "source": [
    "from sklearn import tree\n",
    "\n",
    "clf = tree.DecisionTreeClassifier(max_depth = 4, min_samples_leaf = 4)\n",
    "clf = clf.fit(X_train, y_train)"
   ]
  },
  {
   "cell_type": "code",
   "execution_count": 28,
   "metadata": {},
   "outputs": [
    {
     "name": "stdout",
     "output_type": "stream",
     "text": [
      "Accuracy:0.518\n"
     ]
    }
   ],
   "source": [
    "from sklearn import metrics\n",
    "\n",
    "y_pred = clf.predict(X_test)\n",
    "print(\"Accuracy:{0:.3f}\".format(metrics.accuracy_score(y_test, y_pred)))"
   ]
  },
  {
   "cell_type": "markdown",
   "metadata": {},
   "source": [
    "The accuracy is little more then 51%. This is a good result at first. What I wanted to know is if the algorithm did also calculate draws. "
   ]
  },
  {
   "cell_type": "code",
   "execution_count": 29,
   "metadata": {},
   "outputs": [
    {
     "name": "stdout",
     "output_type": "stream",
     "text": [
      "[0.46614463 0.53385537]\n"
     ]
    }
   ],
   "source": [
    "print(clf.feature_importances_)"
   ]
  },
  {
   "cell_type": "code",
   "execution_count": 30,
   "metadata": {},
   "outputs": [
    {
     "data": {
      "text/plain": [
       "array([1, 2])"
      ]
     },
     "execution_count": 30,
     "metadata": {},
     "output_type": "execute_result"
    }
   ],
   "source": [
    "np.unique(y_pred)"
   ]
  },
  {
   "cell_type": "markdown",
   "metadata": {},
   "source": [
    "As seen above the predicted values did not contain draws. The Tree could be not large enough or the test data did not have a optional draw. An interesting thing to do is see what the tree really does."
   ]
  },
  {
   "cell_type": "code",
   "execution_count": 31,
   "metadata": {},
   "outputs": [],
   "source": [
    "from sklearn.externals.six import StringIO  \n",
    "import pydot \n",
    "\n",
    "dot_data = StringIO() \n",
    "tree.export_graphviz(clf, out_file=dot_data) \n",
    "graph = pydot.graph_from_dot_data(dot_data.getvalue()) \n",
    "\n",
    "graph[0].write_pdf(\"tree.pdf\")"
   ]
  },
  {
   "cell_type": "code",
   "execution_count": 32,
   "metadata": {},
   "outputs": [
    {
     "data": {
      "text/plain": [
       "0.5309404833312297"
      ]
     },
     "execution_count": 32,
     "metadata": {},
     "output_type": "execute_result"
    }
   ],
   "source": [
    "clf = tree.DecisionTreeClassifier(max_depth = 6, min_samples_leaf = 5)\n",
    "\n",
    "from sklearn.model_selection import cross_val_score\n",
    "scores = cross_val_score(clf, X_train, y_train, cv=5)\n",
    "np.average(scores)"
   ]
  },
  {
   "cell_type": "markdown",
   "metadata": {},
   "source": [
    "The cross validation score is 53% which is a little bit heigher then the 51% for the test set."
   ]
  },
  {
   "cell_type": "markdown",
   "metadata": {},
   "source": [
    "Next thing I want to add is the other variables like previous matches from the home and away team and the previous encounters."
   ]
  },
  {
   "cell_type": "code",
   "execution_count": 33,
   "metadata": {},
   "outputs": [],
   "source": [
    "matches_X = matches_custom[['rating_home','rating_away','previous_matches_home_wins',\n",
    "                            'previous_matches_home_draws','previous_matches_home_losses','previous_matches_away_wins',\n",
    "                            'previous_matches_away_draws','previous_matches_away_losses','previous_encounters_home_win',\n",
    "                            'previous_encounters_home_draws','previous_encounters_home_losses']]\n",
    "matches_y = matches_custom['result']\n",
    "matches_y = matches_y.astype('int')"
   ]
  },
  {
   "cell_type": "code",
   "execution_count": 34,
   "metadata": {},
   "outputs": [
    {
     "data": {
      "text/plain": [
       "((3750, 11), (3750,))"
      ]
     },
     "execution_count": 34,
     "metadata": {},
     "output_type": "execute_result"
    }
   ],
   "source": [
    "X_train, X_test, y_train, y_test = train_test_split(matches_X, matches_y, test_size=0.25, random_state=33)\n",
    "\n",
    "X_train.shape, y_train.shape"
   ]
  },
  {
   "cell_type": "code",
   "execution_count": 35,
   "metadata": {},
   "outputs": [
    {
     "name": "stdout",
     "output_type": "stream",
     "text": [
      "[0.45575053 0.50556506 0.00930769 0.         0.         0.02309619\n",
      " 0.         0.         0.         0.         0.00628052]\n"
     ]
    }
   ],
   "source": [
    "clf = tree.DecisionTreeClassifier(max_depth = 4, min_samples_leaf = 6)\n",
    "clf = clf.fit(X_train, y_train)\n",
    "print(clf.feature_importances_)"
   ]
  },
  {
   "cell_type": "code",
   "execution_count": 36,
   "metadata": {},
   "outputs": [
    {
     "name": "stdout",
     "output_type": "stream",
     "text": [
      "Accuracy:0.513\n"
     ]
    }
   ],
   "source": [
    "y_pred = clf.predict(X_test)\n",
    "print(\"Accuracy:{0:.3f}\".format(metrics.accuracy_score(y_test, y_pred)))"
   ]
  },
  {
   "cell_type": "code",
   "execution_count": 37,
   "metadata": {},
   "outputs": [
    {
     "data": {
      "text/plain": [
       "0.5226663409771988"
      ]
     },
     "execution_count": 37,
     "metadata": {},
     "output_type": "execute_result"
    }
   ],
   "source": [
    "clf = tree.DecisionTreeClassifier(max_depth = 7, min_samples_leaf = 8)\n",
    "\n",
    "scores = cross_val_score(clf, X_train, y_train, cv=5)\n",
    "np.average(scores)"
   ]
  },
  {
   "cell_type": "code",
   "execution_count": 38,
   "metadata": {},
   "outputs": [
    {
     "data": {
      "text/plain": [
       "array([1, 2])"
      ]
     },
     "execution_count": 38,
     "metadata": {},
     "output_type": "execute_result"
    }
   ],
   "source": [
    "np.unique(y_pred)"
   ]
  },
  {
   "cell_type": "markdown",
   "metadata": {},
   "source": [
    "As seen above the tree only uses the team ratings and the previous matches home wins and previous matches away wins and last the previous encounters home losses. The accuracy is a little lower then the previous one without the other data but still around 51% for the test set and 52% as cross validation score which is a little bit lower then with only the ratings.\n",
    "\n",
    "Next I wanted to try to make the depth more and try to let all the variables influence the outcome."
   ]
  },
  {
   "cell_type": "code",
   "execution_count": 39,
   "metadata": {},
   "outputs": [
    {
     "name": "stdout",
     "output_type": "stream",
     "text": [
      "[0.36356822 0.43842266 0.02961421 0.02795564 0.01835511 0.04152697\n",
      " 0.00684905 0.02741572 0.0042843  0.01811764 0.02389047]\n"
     ]
    }
   ],
   "source": [
    "clf = tree.DecisionTreeClassifier(max_depth = 7, min_samples_leaf = 5)\n",
    "clf = clf.fit(X_train, y_train)\n",
    "print(clf.feature_importances_)"
   ]
  },
  {
   "cell_type": "code",
   "execution_count": 40,
   "metadata": {},
   "outputs": [
    {
     "name": "stdout",
     "output_type": "stream",
     "text": [
      "Accuracy:0.486\n"
     ]
    }
   ],
   "source": [
    "y_pred = clf.predict(X_test)\n",
    "print(\"Accuracy:{0:.3f}\".format(metrics.accuracy_score(y_test, y_pred)))"
   ]
  },
  {
   "cell_type": "code",
   "execution_count": 41,
   "metadata": {},
   "outputs": [
    {
     "data": {
      "text/plain": [
       "array([0, 1, 2])"
      ]
     },
     "execution_count": 41,
     "metadata": {},
     "output_type": "execute_result"
    }
   ],
   "source": [
    "np.unique(y_pred)"
   ]
  },
  {
   "cell_type": "markdown",
   "metadata": {},
   "source": [
    "The algorithm does now predict draws and the outcome is worse the accuracy is now around 48%. Next I want to use parameter tuning to get the best parameters for the algorithm."
   ]
  },
  {
   "cell_type": "markdown",
   "metadata": {},
   "source": [
    "##### Grid search parameter tuning\n",
    "The parameters I will tune are min samples leaf and the max depth"
   ]
  },
  {
   "cell_type": "code",
   "execution_count": 42,
   "metadata": {},
   "outputs": [],
   "source": [
    "tuned_parameters = [{'min_samples_leaf': range(1, 20), 'max_depth': range(1, 20)}]"
   ]
  },
  {
   "cell_type": "code",
   "execution_count": 43,
   "metadata": {},
   "outputs": [],
   "source": [
    "matches_X = matches_custom[['rating_home','rating_away','previous_matches_home_wins',\n",
    "                            'previous_matches_home_draws','previous_matches_home_losses','previous_matches_away_wins',\n",
    "                            'previous_matches_away_draws','previous_matches_away_losses','previous_encounters_home_win',\n",
    "                            'previous_encounters_home_draws','previous_encounters_home_losses']]\n",
    "matches_y = matches_custom['result']\n",
    "matches_y = matches_y.astype('int')\n",
    "\n",
    "X_train, X_test, y_train, y_test = train_test_split(matches_X, matches_y, test_size=0.25, random_state=33)"
   ]
  },
  {
   "cell_type": "code",
   "execution_count": 44,
   "metadata": {},
   "outputs": [
    {
     "name": "stdout",
     "output_type": "stream",
     "text": [
      "{'max_depth': 4, 'min_samples_leaf': 6}\n"
     ]
    }
   ],
   "source": [
    "from sklearn.model_selection import GridSearchCV\n",
    "\n",
    "clf = GridSearchCV(tree.DecisionTreeClassifier(), tuned_parameters, scoring='accuracy')\n",
    "clf.fit(X_train, y_train)\n",
    "\n",
    "print(clf.best_params_)"
   ]
  },
  {
   "cell_type": "code",
   "execution_count": 45,
   "metadata": {},
   "outputs": [
    {
     "name": "stdout",
     "output_type": "stream",
     "text": [
      "Accuracy:0.513\n"
     ]
    }
   ],
   "source": [
    "y_pred = clf.predict(X_test)\n",
    "print(\"Accuracy:{0:.3f}\".format(metrics.accuracy_score(y_test, y_pred)))"
   ]
  },
  {
   "cell_type": "code",
   "execution_count": 46,
   "metadata": {},
   "outputs": [
    {
     "data": {
      "text/plain": [
       "0.5242706123921999"
      ]
     },
     "execution_count": 46,
     "metadata": {},
     "output_type": "execute_result"
    }
   ],
   "source": [
    "clf = tree.DecisionTreeClassifier(max_depth = 4, min_samples_leaf = 6)\n",
    "\n",
    "scores = cross_val_score(clf, X_train, y_train, cv=5)\n",
    "decision_tree_all_param_score = np.average(scores)\n",
    "decision_tree_all_param_score"
   ]
  },
  {
   "cell_type": "markdown",
   "metadata": {},
   "source": [
    "The advised depth is 4 and the min samples leaf 6. With this algorithm I get again a 51% accuracy on the test set and 52% cross validation score. Next I want to look wat the Grid search suggests without the previous matches variables."
   ]
  },
  {
   "cell_type": "code",
   "execution_count": 47,
   "metadata": {},
   "outputs": [],
   "source": [
    "matches_X = matches_custom[['rating_home','rating_away']]\n",
    "matches_y = matches_custom['result']\n",
    "matches_y = matches_y.astype('int')\n",
    "\n",
    "X_train, X_test, y_train, y_test = train_test_split(matches_X, matches_y, test_size=0.25, random_state=33)"
   ]
  },
  {
   "cell_type": "code",
   "execution_count": 48,
   "metadata": {},
   "outputs": [
    {
     "name": "stdout",
     "output_type": "stream",
     "text": [
      "{'max_depth': 6, 'min_samples_leaf': 1}\n"
     ]
    }
   ],
   "source": [
    "clf = GridSearchCV(tree.DecisionTreeClassifier(), tuned_parameters, scoring='accuracy')\n",
    "clf.fit(X_train, y_train)\n",
    "\n",
    "print(clf.best_params_)"
   ]
  },
  {
   "cell_type": "code",
   "execution_count": 49,
   "metadata": {},
   "outputs": [
    {
     "name": "stdout",
     "output_type": "stream",
     "text": [
      "Accuracy:0.503\n"
     ]
    }
   ],
   "source": [
    "y_pred = clf.predict(X_test)\n",
    "print(\"Accuracy:{0:.3f}\".format(metrics.accuracy_score(y_test, y_pred)))"
   ]
  },
  {
   "cell_type": "code",
   "execution_count": 50,
   "metadata": {},
   "outputs": [
    {
     "data": {
      "text/plain": [
       "0.5320035982286191"
      ]
     },
     "execution_count": 50,
     "metadata": {},
     "output_type": "execute_result"
    }
   ],
   "source": [
    "clf = tree.DecisionTreeClassifier(max_depth = 6, min_samples_leaf = 1)\n",
    "\n",
    "scores = cross_val_score(clf, X_train, y_train, cv=5)\n",
    "decision_tree_rating_param_score = np.average(scores)\n",
    "decision_tree_rating_param_score"
   ]
  },
  {
   "cell_type": "markdown",
   "metadata": {},
   "source": [
    "With this data the advised depth is 6 and min samples leaf 1. The outcome is worse with this test set and the cross validation score is higher than with the other variables."
   ]
  },
  {
   "cell_type": "markdown",
   "metadata": {},
   "source": [
    "#### Overfitting\n",
    "Next I will try to show when my algorith gets overfitted."
   ]
  },
  {
   "cell_type": "code",
   "execution_count": 51,
   "metadata": {},
   "outputs": [],
   "source": [
    "matches_X = matches_custom[['rating_home','rating_away','previous_matches_home_wins',\n",
    "                            'previous_matches_home_draws','previous_matches_home_losses','previous_matches_away_wins',\n",
    "                            'previous_matches_away_draws','previous_matches_away_losses','previous_encounters_home_win',\n",
    "                            'previous_encounters_home_draws','previous_encounters_home_losses']]\n",
    "matches_y = matches_custom['result']\n",
    "matches_y = matches_y.astype('int')\n",
    "\n",
    "X_train, X_test, y_train, y_test = train_test_split(matches_X, matches_y, test_size=0.25, random_state=33)"
   ]
  },
  {
   "cell_type": "code",
   "execution_count": 52,
   "metadata": {},
   "outputs": [],
   "source": [
    "accuracy_score_test = []\n",
    "accuracy_score_train = []\n",
    "\n",
    "for i in range(1,20):\n",
    "    clf = tree.DecisionTreeClassifier(max_depth = i)\n",
    "    clf = clf.fit(X_train, y_train)\n",
    "    accuracy_score_test.append([metrics.accuracy_score(y_test, clf.predict(X_test)), i])\n",
    "    accuracy_score_train.append([metrics.accuracy_score(y_train, clf.predict(X_train)), i])"
   ]
  },
  {
   "cell_type": "code",
   "execution_count": 53,
   "metadata": {},
   "outputs": [
    {
     "data": {
      "image/png": "[encoded data removed]",
      "text/plain": [
       "<Figure size 432x288 with 1 Axes>"
      ]
     },
     "metadata": {},
     "output_type": "display_data"
    }
   ],
   "source": [
    "plt.plot([i[1] for i in accuracy_score_test], [i[0] for i in accuracy_score_test])\n",
    "plt.plot([i[1] for i in accuracy_score_train], [i[0] for i in accuracy_score_train])\n",
    "plt.xticks(range(1,21))\n",
    "plt.ylabel('Accuracy')\n",
    "plt.xlabel('Depth')\n",
    "plt.show()"
   ]
  },
  {
   "cell_type": "markdown",
   "metadata": {},
   "source": [
    "As seen with the graph below with a depth of 4 the test set is on its best. After it it only gets worse and the training set will get better. This is overfitting."
   ]
  },
  {
   "cell_type": "code",
   "execution_count": 54,
   "metadata": {},
   "outputs": [
    {
     "name": "stdout",
     "output_type": "stream",
     "text": [
      "[[0.532, 0.95], [0.49, 0.9], [0.4833555259653795, 0.85], [0.473, 0.8], [0.4712, 0.75], [0.472, 0.7], [0.47801256424900057, 0.6499999999999999]]\n"
     ]
    }
   ],
   "source": [
    "accuracy_score_test = []\n",
    "accuracy_score_train = []\n",
    "for i in np.arange(0.05,0.40, 0.05):\n",
    "    X_train, X_test, y_train, y_test = train_test_split(matches_X, matches_y, test_size=i, random_state=33)\n",
    "    clf = tree.DecisionTreeClassifier(max_depth = i)\n",
    "    clf = clf.fit(X_train, y_train)\n",
    "    accuracy_score_test.append([metrics.accuracy_score(y_test, clf.predict(X_test)), 1 - i])\n",
    "    accuracy_score_train.append([metrics.accuracy_score(y_train, clf.predict(X_train)), 1 - i])\n",
    "    \n",
    "print(accuracy_score_test)"
   ]
  },
  {
   "cell_type": "code",
   "execution_count": 55,
   "metadata": {},
   "outputs": [
    {
     "data": {
      "image/png": "[encoded data removed]",
      "text/plain": [
       "<Figure size 432x288 with 1 Axes>"
      ]
     },
     "metadata": {},
     "output_type": "display_data"
    }
   ],
   "source": [
    "plt.plot([i[1] for i in accuracy_score_test], [i[0] for i in accuracy_score_test])\n",
    "plt.plot([i[1] for i in accuracy_score_train], [i[0] for i in accuracy_score_train])\n",
    "plt.ylabel('Accuracy')\n",
    "plt.xlabel('Train size')\n",
    "plt.show()"
   ]
  },
  {
   "cell_type": "markdown",
   "metadata": {},
   "source": [
    "The test set around a size of 0.20 is fine. It has a good accuracy score for the training set and a good accuracy score for the test set."
   ]
  },
  {
   "cell_type": "markdown",
   "metadata": {},
   "source": [
    "### Random forest\n",
    "The next step after decision trees is random forest. This combines multiple tree's to a forest."
   ]
  },
  {
   "cell_type": "code",
   "execution_count": 56,
   "metadata": {},
   "outputs": [
    {
     "data": {
      "text/plain": [
       "((3750, 11), (3750,))"
      ]
     },
     "execution_count": 56,
     "metadata": {},
     "output_type": "execute_result"
    }
   ],
   "source": [
    "matches_X = matches_custom[['rating_home','rating_away','previous_matches_home_wins',\n",
    "                            'previous_matches_home_draws','previous_matches_home_losses','previous_matches_away_wins',\n",
    "                            'previous_matches_away_draws','previous_matches_away_losses','previous_encounters_home_win',\n",
    "                            'previous_encounters_home_draws','previous_encounters_home_losses']]\n",
    "matches_y = matches_custom['result']\n",
    "matches_y = matches_y.astype('int')\n",
    "\n",
    "X_train, X_test, y_train, y_test = train_test_split(matches_X, matches_y, test_size=0.25, random_state=33)\n",
    "\n",
    "X_train.shape, y_train.shape"
   ]
  },
  {
   "cell_type": "code",
   "execution_count": 57,
   "metadata": {},
   "outputs": [
    {
     "name": "stdout",
     "output_type": "stream",
     "text": [
      "[0.23512114 0.2324696  0.09535906 0.05351843 0.06736324 0.07900213\n",
      " 0.05766938 0.06537545 0.03615548 0.04117069 0.03679539]\n"
     ]
    }
   ],
   "source": [
    "from sklearn.ensemble import RandomForestClassifier\n",
    "\n",
    "clf = RandomForestClassifier(n_estimators=10, max_depth=10)\n",
    "clf.fit(X_train, y_train)\n",
    "\n",
    "print(clf.feature_importances_)"
   ]
  },
  {
   "cell_type": "code",
   "execution_count": 58,
   "metadata": {},
   "outputs": [
    {
     "name": "stdout",
     "output_type": "stream",
     "text": [
      "Accuracy:0.516\n"
     ]
    }
   ],
   "source": [
    "y_pred = clf.predict(X_test)\n",
    "print(\"Accuracy:{0:.3f}\".format(metrics.accuracy_score(y_test, y_pred)))"
   ]
  },
  {
   "cell_type": "code",
   "execution_count": 59,
   "metadata": {},
   "outputs": [
    {
     "data": {
      "text/plain": [
       "0.5226709617854135"
      ]
     },
     "execution_count": 59,
     "metadata": {},
     "output_type": "execute_result"
    }
   ],
   "source": [
    "clf = RandomForestClassifier(n_estimators=8, max_depth=7)\n",
    "\n",
    "scores = cross_val_score(clf, X_train, y_train, cv=5)\n",
    "random_forest_all_param_score = np.average(scores)\n",
    "random_forest_all_param_score"
   ]
  },
  {
   "cell_type": "markdown",
   "metadata": {},
   "source": [
    "With a depth of 10 and estimaters number of 10 we get an accuracy of 52% wich is a little bit better then the trees with 51% on the test set but the cross validation score is around 52% which is the same as the trees without parameter tuning. Next I will try if I get a better result with only the ratings of the teams."
   ]
  },
  {
   "cell_type": "code",
   "execution_count": 60,
   "metadata": {},
   "outputs": [],
   "source": [
    "matches_X = matches_custom[['rating_home','rating_away']]\n",
    "matches_y = matches_custom['result']\n",
    "matches_y = matches_y.astype('int')\n",
    "\n",
    "X_train, X_test, y_train, y_test = train_test_split(matches_X, matches_y, test_size=0.25, random_state=33)"
   ]
  },
  {
   "cell_type": "code",
   "execution_count": 61,
   "metadata": {},
   "outputs": [
    {
     "data": {
      "text/plain": [
       "RandomForestClassifier(bootstrap=True, class_weight=None, criterion='gini',\n",
       "            max_depth=5, max_features='auto', max_leaf_nodes=None,\n",
       "            min_impurity_decrease=0.0, min_impurity_split=None,\n",
       "            min_samples_leaf=1, min_samples_split=2,\n",
       "            min_weight_fraction_leaf=0.0, n_estimators=10, n_jobs=1,\n",
       "            oob_score=False, random_state=0, verbose=0, warm_start=False)"
      ]
     },
     "execution_count": 61,
     "metadata": {},
     "output_type": "execute_result"
    }
   ],
   "source": [
    "clf = RandomForestClassifier(n_estimators=10, max_depth=5, random_state=0)\n",
    "clf.fit(X_train, y_train)"
   ]
  },
  {
   "cell_type": "code",
   "execution_count": 62,
   "metadata": {},
   "outputs": [
    {
     "name": "stdout",
     "output_type": "stream",
     "text": [
      "Accuracy:0.514\n"
     ]
    }
   ],
   "source": [
    "y_pred = clf.predict(X_test)\n",
    "print(\"Accuracy:{0:.3f}\".format(metrics.accuracy_score(y_test, y_pred)))"
   ]
  },
  {
   "cell_type": "code",
   "execution_count": 63,
   "metadata": {},
   "outputs": [
    {
     "name": "stdout",
     "output_type": "stream",
     "text": [
      "[0.48042541 0.51957459]\n"
     ]
    }
   ],
   "source": [
    "print(clf.feature_importances_)"
   ]
  },
  {
   "cell_type": "markdown",
   "metadata": {},
   "source": [
    "The accuracy is less then with the other features on this one. This one has the same accuracy as the tree's with 51%."
   ]
  },
  {
   "cell_type": "markdown",
   "metadata": {},
   "source": [
    "Next I will plot a confusion matrix to show true and false predictions on wins, draws and losses."
   ]
  },
  {
   "cell_type": "code",
   "execution_count": 64,
   "metadata": {},
   "outputs": [
    {
     "data": {
      "image/png": "[encoded data removed]",
      "text/plain": [
       "<Figure size 432x288 with 2 Axes>"
      ]
     },
     "metadata": {},
     "output_type": "display_data"
    }
   ],
   "source": [
    "plt.imshow(metrics.confusion_matrix(y_pred, y_test), cmap='Blues', interpolation='nearest')\n",
    "plt.colorbar()\n",
    "plt.grid(False)\n",
    "plt.ylabel('true')\n",
    "plt.xlabel('predicted');\n",
    "plt.show()"
   ]
  },
  {
   "cell_type": "code",
   "execution_count": 65,
   "metadata": {},
   "outputs": [
    {
     "name": "stdout",
     "output_type": "stream",
     "text": [
      "dict_keys([2, 1, 0])\n",
      "dict_values([980, 265, 5])\n",
      "1250\n"
     ]
    }
   ],
   "source": [
    "print(Counter(y_pred).keys())\n",
    "print(Counter(y_pred).values())\n",
    "print(len(X_test))"
   ]
  },
  {
   "cell_type": "markdown",
   "metadata": {},
   "source": [
    "As seen in the graph the algorithm predicts a lot of wins. This can be because a lot of home matches result in wins. Draws are a lot less predicted."
   ]
  },
  {
   "cell_type": "code",
   "execution_count": 66,
   "metadata": {},
   "outputs": [
    {
     "data": {
      "text/plain": [
       "0.5472114441684933"
      ]
     },
     "execution_count": 66,
     "metadata": {},
     "output_type": "execute_result"
    }
   ],
   "source": [
    "clf = RandomForestClassifier(n_estimators=15, max_depth=5)\n",
    "\n",
    "scores = cross_val_score(clf, X_train, y_train, cv=5)\n",
    "random_forest_rating_param_score = np.average(scores)\n",
    "random_forest_rating_param_score"
   ]
  },
  {
   "cell_type": "markdown",
   "metadata": {},
   "source": [
    "The cross validation score however is a lot higher with less features. "
   ]
  },
  {
   "cell_type": "markdown",
   "metadata": {},
   "source": [
    "### Naive Bayes\n",
    "Next I wanted to try to predict with naive bayes. Naive bayes has different version which can be used. I chose to use GaussianNB. Gaussian is used with continious data and normal distribution. Naive bayes works with probabilities.  "
   ]
  },
  {
   "cell_type": "code",
   "execution_count": 67,
   "metadata": {},
   "outputs": [
    {
     "data": {
      "text/plain": [
       "((3750, 13), (3750,))"
      ]
     },
     "execution_count": 67,
     "metadata": {},
     "output_type": "execute_result"
    }
   ],
   "source": [
    "matches_X = matches_custom[['home_team','away_team','rating_home','rating_away','previous_matches_home_wins',\n",
    "                            'previous_matches_home_draws','previous_matches_home_losses','previous_matches_away_wins',\n",
    "                            'previous_matches_away_draws','previous_matches_away_losses','previous_encounters_home_win',\n",
    "                            'previous_encounters_home_draws','previous_encounters_home_losses']]\n",
    "matches_y = matches_custom['result']\n",
    "matches_y = matches_y.astype('int')\n",
    "\n",
    "X_train, X_test, y_train, y_test = train_test_split(matches_X, matches_y, test_size=0.25, random_state=33)\n",
    "\n",
    "X_train.shape, y_train.shape"
   ]
  },
  {
   "cell_type": "code",
   "execution_count": 68,
   "metadata": {},
   "outputs": [
    {
     "data": {
      "text/plain": [
       "GaussianNB(priors=None)"
      ]
     },
     "execution_count": 68,
     "metadata": {},
     "output_type": "execute_result"
    }
   ],
   "source": [
    "from sklearn.naive_bayes import GaussianNB\n",
    "\n",
    "clf = GaussianNB()\n",
    "clf.fit(X_train, y_train)"
   ]
  },
  {
   "cell_type": "code",
   "execution_count": 69,
   "metadata": {},
   "outputs": [
    {
     "name": "stdout",
     "output_type": "stream",
     "text": [
      "Accuracy:0.518\n"
     ]
    }
   ],
   "source": [
    "y_pred = clf.predict(X_test)\n",
    "print(\"Accuracy:{0:.3f}\".format(metrics.accuracy_score(y_test, y_pred)))"
   ]
  },
  {
   "cell_type": "code",
   "execution_count": 70,
   "metadata": {},
   "outputs": [
    {
     "data": {
      "text/plain": [
       "0.4930670094228315"
      ]
     },
     "execution_count": 70,
     "metadata": {},
     "output_type": "execute_result"
    }
   ],
   "source": [
    "clf = GaussianNB()\n",
    "\n",
    "scores = cross_val_score(clf, X_train, y_train, cv=5)\n",
    "naive_bayes_all_param_score = np.average(scores)\n",
    "naive_bayes_all_param_score"
   ]
  },
  {
   "cell_type": "code",
   "execution_count": 71,
   "metadata": {},
   "outputs": [],
   "source": [
    "matches_X = matches_custom[['home_team','away_team','rating_home','rating_away']]\n",
    "matches_y = matches_custom['result']\n",
    "matches_y = matches_y.astype('int')\n",
    "\n",
    "X_train, X_test, y_train, y_test = train_test_split(matches_X, matches_y, test_size=0.25, random_state=33)"
   ]
  },
  {
   "cell_type": "code",
   "execution_count": 72,
   "metadata": {},
   "outputs": [
    {
     "data": {
      "text/plain": [
       "GaussianNB(priors=None)"
      ]
     },
     "execution_count": 72,
     "metadata": {},
     "output_type": "execute_result"
    }
   ],
   "source": [
    "clf = GaussianNB()\n",
    "clf.fit(X_train, y_train)"
   ]
  },
  {
   "cell_type": "code",
   "execution_count": 73,
   "metadata": {},
   "outputs": [
    {
     "name": "stdout",
     "output_type": "stream",
     "text": [
      "Accuracy:0.481\n"
     ]
    }
   ],
   "source": [
    "y_pred = clf.predict(X_test)\n",
    "print(\"Accuracy:{0:.3f}\".format(metrics.accuracy_score(y_test, y_pred)))"
   ]
  },
  {
   "cell_type": "code",
   "execution_count": 74,
   "metadata": {},
   "outputs": [
    {
     "data": {
      "text/plain": [
       "0.48160886377872086"
      ]
     },
     "execution_count": 74,
     "metadata": {},
     "output_type": "execute_result"
    }
   ],
   "source": [
    "clf = GaussianNB()\n",
    "\n",
    "scores = cross_val_score(clf, X_train, y_train, cv=5)\n",
    "naive_bayes_4_param_score = np.average(scores)\n",
    "naive_bayes_4_param_score"
   ]
  },
  {
   "cell_type": "markdown",
   "metadata": {},
   "source": [
    "With naive bayes I can see that more features will improve the algorithm. With the many features the cross validation score is 0.49 and without it is 0.48. The results are less with this algorithm then the decision tree and random forest."
   ]
  },
  {
   "cell_type": "markdown",
   "metadata": {},
   "source": [
    "### Linear regression\n",
    "I want to use linear regression to predict the chance for winning. The wins can have a linear relation to the outcome because if there are more previous wins the chance that the match will result in a win will be higher."
   ]
  },
  {
   "cell_type": "code",
   "execution_count": 75,
   "metadata": {},
   "outputs": [
    {
     "data": {
      "image/png": "[encoded data removed]",
      "text/plain": [
       "<Figure size 720x576 with 2 Axes>"
      ]
     },
     "metadata": {},
     "output_type": "display_data"
    }
   ],
   "source": [
    "import seaborn as sns\n",
    "\n",
    "df = matches_custom\n",
    "df['result_win'] = df['result'] == 2\n",
    "df['result_loss'] = df['result'] == 1\n",
    "df['result_draw'] = df['result'] == 0\n",
    "cols = ['result_win','result_draw','result_loss','rating_home','rating_away',\n",
    "        'previous_matches_home_wins','previous_matches_home_losses',\n",
    "        'previous_matches_away_wins','previous_matches_away_losses',\n",
    "        'previous_encounters_home_win','previous_encounters_home_losses']\n",
    "\n",
    "cm = np.corrcoef(df[cols].astype(float).values, rowvar=0)\n",
    "\n",
    "plt.figure(figsize=(10,8))\n",
    "sns.set(font_scale=1.5)\n",
    "hm = sns.heatmap(cm,\n",
    "    cbar=True,\n",
    "    annot=True,\n",
    "    square=True,\n",
    "    fmt='.2f',\n",
    "    annot_kws={'size': 15},\n",
    "    yticklabels=cols,\n",
    "    xticklabels=cols)\n",
    "plt.show()"
   ]
  },
  {
   "cell_type": "markdown",
   "metadata": {},
   "source": [
    "As seen in the graph all variables have a correlation with the result the previous_matches_home_wins has the most influence."
   ]
  },
  {
   "cell_type": "code",
   "execution_count": 76,
   "metadata": {},
   "outputs": [],
   "source": [
    "matches_X = df[['rating_home','rating_away','previous_matches_home_wins','previous_matches_home_losses',\n",
    "                'previous_matches_away_wins','previous_matches_away_losses','previous_encounters_home_win',\n",
    "                'previous_encounters_home_losses']]\n",
    "matches_y = matches_custom['result_win']\n",
    "matches_y = matches_y.astype('int')\n",
    "\n",
    "X_train, X_test, y_train, y_test = train_test_split(matches_X, matches_y, test_size=0.25, random_state=33)"
   ]
  },
  {
   "cell_type": "code",
   "execution_count": 77,
   "metadata": {},
   "outputs": [
    {
     "name": "stdout",
     "output_type": "stream",
     "text": [
      "Slope: 0.003\n",
      "Intercept: 0.423\n"
     ]
    }
   ],
   "source": [
    "from sklearn.linear_model import LinearRegression\n",
    "\n",
    "slr = LinearRegression()\n",
    "slr.fit(X_train, y_train)\n",
    "print('Slope: %.3f' % slr.coef_[0])\n",
    "print('Intercept: %.3f' % slr.intercept_)"
   ]
  },
  {
   "cell_type": "code",
   "execution_count": 78,
   "metadata": {},
   "outputs": [],
   "source": [
    "y_pred = slr.predict(X_test)"
   ]
  },
  {
   "cell_type": "code",
   "execution_count": 79,
   "metadata": {},
   "outputs": [
    {
     "name": "stdout",
     "output_type": "stream",
     "text": [
      "[0.7591615  0.71547832 0.34319124 ... 0.53198211 0.11423903 0.47955959]\n"
     ]
    },
    {
     "data": {
      "text/html": [
       "<div>\n",
       "<style scoped>\n",
       "    .dataframe tbody tr th:only-of-type {\n",
       "        vertical-align: middle;\n",
       "    }\n",
       "\n",
       "    .dataframe tbody tr th {\n",
       "        vertical-align: top;\n",
       "    }\n",
       "\n",
       "    .dataframe thead th {\n",
       "        text-align: right;\n",
       "    }\n",
       "</style>\n",
       "<table border=\"1\" class=\"dataframe\">\n",
       "  <thead>\n",
       "    <tr style=\"text-align: right;\">\n",
       "      <th></th>\n",
       "      <th>Actual</th>\n",
       "      <th>Predicted</th>\n",
       "    </tr>\n",
       "  </thead>\n",
       "  <tbody>\n",
       "    <tr>\n",
       "      <th>25822</th>\n",
       "      <td>1</td>\n",
       "      <td>0.759162</td>\n",
       "    </tr>\n",
       "    <tr>\n",
       "      <th>22862</th>\n",
       "      <td>0</td>\n",
       "      <td>0.715478</td>\n",
       "    </tr>\n",
       "    <tr>\n",
       "      <th>23635</th>\n",
       "      <td>0</td>\n",
       "      <td>0.343191</td>\n",
       "    </tr>\n",
       "    <tr>\n",
       "      <th>22850</th>\n",
       "      <td>1</td>\n",
       "      <td>0.660837</td>\n",
       "    </tr>\n",
       "    <tr>\n",
       "      <th>21771</th>\n",
       "      <td>1</td>\n",
       "      <td>0.462499</td>\n",
       "    </tr>\n",
       "    <tr>\n",
       "      <th>23647</th>\n",
       "      <td>0</td>\n",
       "      <td>0.357352</td>\n",
       "    </tr>\n",
       "    <tr>\n",
       "      <th>23813</th>\n",
       "      <td>1</td>\n",
       "      <td>0.477378</td>\n",
       "    </tr>\n",
       "    <tr>\n",
       "      <th>25842</th>\n",
       "      <td>0</td>\n",
       "      <td>0.446740</td>\n",
       "    </tr>\n",
       "    <tr>\n",
       "      <th>22590</th>\n",
       "      <td>0</td>\n",
       "      <td>0.363805</td>\n",
       "    </tr>\n",
       "    <tr>\n",
       "      <th>24929</th>\n",
       "      <td>0</td>\n",
       "      <td>0.637319</td>\n",
       "    </tr>\n",
       "  </tbody>\n",
       "</table>\n",
       "</div>"
      ],
      "text/plain": [
       "       Actual  Predicted\n",
       "25822       1   0.759162\n",
       "22862       0   0.715478\n",
       "23635       0   0.343191\n",
       "22850       1   0.660837\n",
       "21771       1   0.462499\n",
       "23647       0   0.357352\n",
       "23813       1   0.477378\n",
       "25842       0   0.446740\n",
       "22590       0   0.363805\n",
       "24929       0   0.637319"
      ]
     },
     "execution_count": 79,
     "metadata": {},
     "output_type": "execute_result"
    }
   ],
   "source": [
    "print(y_pred)\n",
    "\n",
    "df_temp = pd.DataFrame({'Actual': y_test, 'Predicted': y_pred})\n",
    "df_temp.head(10)"
   ]
  },
  {
   "cell_type": "markdown",
   "metadata": {},
   "source": [
    "To check why the algorithm gives a chance of 71% to win the match with id 22862 I will inspect this row."
   ]
  },
  {
   "cell_type": "code",
   "execution_count": 80,
   "metadata": {},
   "outputs": [
    {
     "name": "stdout",
     "output_type": "stream",
     "text": [
      "rating_home                        931\n",
      "rating_away                        868\n",
      "previous_matches_home_wins          10\n",
      "previous_matches_home_losses         0\n",
      "previous_matches_away_wins           5\n",
      "previous_matches_away_losses         4\n",
      "previous_encounters_home_win         3\n",
      "previous_encounters_home_losses      0\n",
      "Name: 22862, dtype: object\n"
     ]
    }
   ],
   "source": [
    "print(X_test.loc[22862])"
   ]
  },
  {
   "cell_type": "markdown",
   "metadata": {},
   "source": [
    "With this information I also expect the home team to win. In soccer there is always a chance that the outcome is unpredictable."
   ]
  },
  {
   "cell_type": "code",
   "execution_count": 81,
   "metadata": {},
   "outputs": [
    {
     "name": "stdout",
     "output_type": "stream",
     "text": [
      "Mean Absolute Error: 0.4352657791742661\n",
      "Mean Squared Error: 0.21965595139061825\n",
      "R2 score: 0.11845142784677976\n"
     ]
    }
   ],
   "source": [
    "from sklearn import metrics  \n",
    "print('Mean Absolute Error:', metrics.mean_absolute_error(y_test, y_pred))  \n",
    "print('Mean Squared Error:', metrics.mean_squared_error(y_test, y_pred))  \n",
    "print('R2 score:', metrics.r2_score(y_test, y_pred))"
   ]
  },
  {
   "cell_type": "markdown",
   "metadata": {},
   "source": [
    "The R2 score in this case is of course very low this is because 1 and 0 are never predicted and the values are always in between. "
   ]
  },
  {
   "cell_type": "markdown",
   "metadata": {},
   "source": [
    "### Logistic Regression\n",
    "Next I wanted to try logistic regression to get a classification instead of the chance."
   ]
  },
  {
   "cell_type": "code",
   "execution_count": 82,
   "metadata": {},
   "outputs": [],
   "source": [
    "matches_X = df[['rating_home','rating_away','previous_matches_home_wins','previous_matches_home_losses',\n",
    "                'previous_matches_away_wins','previous_matches_away_losses','previous_encounters_home_win',\n",
    "                'previous_encounters_home_losses']]\n",
    "matches_y = matches_custom['result_win']\n",
    "matches_y = matches_y.astype('int')\n",
    "\n",
    "X_train, X_test, y_train, y_test = train_test_split(matches_X, matches_y, test_size=0.25, random_state=33)"
   ]
  },
  {
   "cell_type": "code",
   "execution_count": 83,
   "metadata": {},
   "outputs": [
    {
     "data": {
      "text/plain": [
       "LogisticRegression(C=1.0, class_weight=None, dual=False, fit_intercept=True,\n",
       "          intercept_scaling=1, max_iter=100, multi_class='ovr', n_jobs=1,\n",
       "          penalty='l2', random_state=None, solver='liblinear', tol=0.0001,\n",
       "          verbose=0, warm_start=False)"
      ]
     },
     "execution_count": 83,
     "metadata": {},
     "output_type": "execute_result"
    }
   ],
   "source": [
    "from sklearn.linear_model import LogisticRegression\n",
    "\n",
    "clf = LogisticRegression()\n",
    "clf.fit(X_train, y_train)"
   ]
  },
  {
   "cell_type": "code",
   "execution_count": 84,
   "metadata": {},
   "outputs": [],
   "source": [
    "y_pred = clf.predict(X_test)"
   ]
  },
  {
   "cell_type": "code",
   "execution_count": 85,
   "metadata": {},
   "outputs": [
    {
     "name": "stdout",
     "output_type": "stream",
     "text": [
      "[1 1 0 ... 1 0 0]\n"
     ]
    },
    {
     "data": {
      "text/html": [
       "<div>\n",
       "<style scoped>\n",
       "    .dataframe tbody tr th:only-of-type {\n",
       "        vertical-align: middle;\n",
       "    }\n",
       "\n",
       "    .dataframe tbody tr th {\n",
       "        vertical-align: top;\n",
       "    }\n",
       "\n",
       "    .dataframe thead th {\n",
       "        text-align: right;\n",
       "    }\n",
       "</style>\n",
       "<table border=\"1\" class=\"dataframe\">\n",
       "  <thead>\n",
       "    <tr style=\"text-align: right;\">\n",
       "      <th></th>\n",
       "      <th>Actual</th>\n",
       "      <th>Predicted</th>\n",
       "    </tr>\n",
       "  </thead>\n",
       "  <tbody>\n",
       "    <tr>\n",
       "      <th>25822</th>\n",
       "      <td>1</td>\n",
       "      <td>1</td>\n",
       "    </tr>\n",
       "    <tr>\n",
       "      <th>22862</th>\n",
       "      <td>0</td>\n",
       "      <td>1</td>\n",
       "    </tr>\n",
       "    <tr>\n",
       "      <th>23635</th>\n",
       "      <td>0</td>\n",
       "      <td>0</td>\n",
       "    </tr>\n",
       "    <tr>\n",
       "      <th>22850</th>\n",
       "      <td>1</td>\n",
       "      <td>1</td>\n",
       "    </tr>\n",
       "    <tr>\n",
       "      <th>21771</th>\n",
       "      <td>1</td>\n",
       "      <td>0</td>\n",
       "    </tr>\n",
       "    <tr>\n",
       "      <th>23647</th>\n",
       "      <td>0</td>\n",
       "      <td>0</td>\n",
       "    </tr>\n",
       "    <tr>\n",
       "      <th>23813</th>\n",
       "      <td>1</td>\n",
       "      <td>0</td>\n",
       "    </tr>\n",
       "    <tr>\n",
       "      <th>25842</th>\n",
       "      <td>0</td>\n",
       "      <td>0</td>\n",
       "    </tr>\n",
       "    <tr>\n",
       "      <th>22590</th>\n",
       "      <td>0</td>\n",
       "      <td>0</td>\n",
       "    </tr>\n",
       "    <tr>\n",
       "      <th>24929</th>\n",
       "      <td>0</td>\n",
       "      <td>1</td>\n",
       "    </tr>\n",
       "  </tbody>\n",
       "</table>\n",
       "</div>"
      ],
      "text/plain": [
       "       Actual  Predicted\n",
       "25822       1          1\n",
       "22862       0          1\n",
       "23635       0          0\n",
       "22850       1          1\n",
       "21771       1          0\n",
       "23647       0          0\n",
       "23813       1          0\n",
       "25842       0          0\n",
       "22590       0          0\n",
       "24929       0          1"
      ]
     },
     "execution_count": 85,
     "metadata": {},
     "output_type": "execute_result"
    }
   ],
   "source": [
    "print(y_pred)\n",
    "\n",
    "df_temp = pd.DataFrame({'Actual': y_test, 'Predicted': y_pred})\n",
    "df_temp.head(10)"
   ]
  },
  {
   "cell_type": "code",
   "execution_count": 86,
   "metadata": {},
   "outputs": [
    {
     "name": "stdout",
     "output_type": "stream",
     "text": [
      "Accuracy:0.631\n"
     ]
    }
   ],
   "source": [
    "print(\"Accuracy:{0:.3f}\".format(metrics.accuracy_score(y_test, y_pred)))"
   ]
  },
  {
   "cell_type": "code",
   "execution_count": 87,
   "metadata": {},
   "outputs": [
    {
     "name": "stdout",
     "output_type": "stream",
     "text": [
      "Counter({0: 730, 1: 520})\n",
      "[[1, 1, 324], [0, 1, 196], [0, 0, 465], [1, 0, 265]]\n"
     ]
    }
   ],
   "source": [
    "print(Counter(y_pred))\n",
    "\n",
    "listOfItems = np.vstack((y_test.values, y_pred)).T.tolist()\n",
    "setOfItems = []\n",
    "newListOfItems = []\n",
    "for item in listOfItems:\n",
    "    if item in setOfItems:\n",
    "        continue\n",
    "    setOfItems.append(item)\n",
    "    temp = list(item)\n",
    "    occurence = listOfItems.count(item)\n",
    "    temp.append(occurence)\n",
    "    newListOfItems.append(temp)\n",
    "\n",
    "print(newListOfItems)"
   ]
  },
  {
   "cell_type": "code",
   "execution_count": 88,
   "metadata": {},
   "outputs": [
    {
     "data": {
      "text/plain": [
       "0.6405333333333334"
      ]
     },
     "execution_count": 88,
     "metadata": {},
     "output_type": "execute_result"
    }
   ],
   "source": [
    "clf = LogisticRegression()\n",
    "\n",
    "scores = cross_val_score(clf, X_train, y_train, cv=5)\n",
    "logistic_regression_win_score = np.average(scores)\n",
    "logistic_regression_win_score"
   ]
  },
  {
   "cell_type": "markdown",
   "metadata": {},
   "source": [
    "64% of the wins is predicted right which is considering it is a 50% chance of choosing the right one is a good result. Next I will try if predicting a loss is easier."
   ]
  },
  {
   "cell_type": "code",
   "execution_count": 89,
   "metadata": {},
   "outputs": [],
   "source": [
    "matches_X = df[['rating_home','rating_away','previous_matches_home_wins','previous_matches_home_losses',\n",
    "                'previous_matches_away_wins','previous_matches_away_losses','previous_encounters_home_win',\n",
    "                'previous_encounters_home_losses']]\n",
    "matches_y = matches_custom['result_loss']\n",
    "matches_y = matches_y.astype('int')\n",
    "\n",
    "X_train, X_test, y_train, y_test = train_test_split(matches_X, matches_y, test_size=0.25, random_state=33)"
   ]
  },
  {
   "cell_type": "code",
   "execution_count": 90,
   "metadata": {},
   "outputs": [
    {
     "data": {
      "text/plain": [
       "LogisticRegression(C=1.0, class_weight=None, dual=False, fit_intercept=True,\n",
       "          intercept_scaling=1, max_iter=100, multi_class='ovr', n_jobs=1,\n",
       "          penalty='l2', random_state=None, solver='liblinear', tol=0.0001,\n",
       "          verbose=0, warm_start=False)"
      ]
     },
     "execution_count": 90,
     "metadata": {},
     "output_type": "execute_result"
    }
   ],
   "source": [
    "clf = LogisticRegression()\n",
    "clf.fit(X_train, y_train)"
   ]
  },
  {
   "cell_type": "code",
   "execution_count": 91,
   "metadata": {},
   "outputs": [
    {
     "name": "stdout",
     "output_type": "stream",
     "text": [
      "Accuracy:0.714\n"
     ]
    }
   ],
   "source": [
    "y_pred = clf.predict(X_test)\n",
    "print(\"Accuracy:{0:.3f}\".format(metrics.accuracy_score(y_test, y_pred)))"
   ]
  },
  {
   "cell_type": "code",
   "execution_count": 92,
   "metadata": {},
   "outputs": [
    {
     "name": "stdout",
     "output_type": "stream",
     "text": [
      "Counter({0: 1087, 1: 163})\n",
      "[[0, 0, 804], [1, 0, 283], [0, 1, 75], [1, 1, 88]]\n"
     ]
    }
   ],
   "source": [
    "print(Counter(y_pred))\n",
    "\n",
    "listOfItems = np.vstack((y_test.values, y_pred)).T.tolist()\n",
    "setOfItems = []\n",
    "newListOfItems = []\n",
    "for item in listOfItems:\n",
    "    if item in setOfItems:\n",
    "        continue\n",
    "    setOfItems.append(item)\n",
    "    temp = list(item)\n",
    "    occurence = listOfItems.count(item)\n",
    "    temp.append(occurence)\n",
    "    newListOfItems.append(temp)\n",
    "\n",
    "print(newListOfItems)"
   ]
  },
  {
   "cell_type": "code",
   "execution_count": 93,
   "metadata": {},
   "outputs": [
    {
     "data": {
      "text/plain": [
       "0.7367999843555276"
      ]
     },
     "execution_count": 93,
     "metadata": {},
     "output_type": "execute_result"
    }
   ],
   "source": [
    "clf = LogisticRegression()\n",
    "\n",
    "scores = cross_val_score(clf, X_train, y_train, cv=5)\n",
    "logistic_regression_loss_score = np.average(scores)\n",
    "logistic_regression_loss_score"
   ]
  },
  {
   "cell_type": "markdown",
   "metadata": {},
   "source": [
    "As seen above predicting the loss is easier then predicting the win. This is probably because there are a lot less losses in the home matches so the chance that the algorithm will predict a loss is a lot less high."
   ]
  },
  {
   "cell_type": "code",
   "execution_count": 94,
   "metadata": {},
   "outputs": [],
   "source": [
    "matches_X = df[['rating_home','rating_away','previous_matches_home_wins','previous_matches_home_losses',\n",
    "                'previous_matches_away_wins','previous_matches_away_losses','previous_encounters_home_win',\n",
    "                'previous_encounters_home_losses']]\n",
    "matches_y = matches_custom['result_draw']\n",
    "matches_y = matches_y.astype('int')\n",
    "\n",
    "X_train, X_test, y_train, y_test = train_test_split(matches_X, matches_y, test_size=0.25, random_state=33)"
   ]
  },
  {
   "cell_type": "code",
   "execution_count": 95,
   "metadata": {},
   "outputs": [
    {
     "data": {
      "text/plain": [
       "LogisticRegression(C=1.0, class_weight=None, dual=False, fit_intercept=True,\n",
       "          intercept_scaling=1, max_iter=100, multi_class='ovr', n_jobs=1,\n",
       "          penalty='l2', random_state=None, solver='liblinear', tol=0.0001,\n",
       "          verbose=0, warm_start=False)"
      ]
     },
     "execution_count": 95,
     "metadata": {},
     "output_type": "execute_result"
    }
   ],
   "source": [
    "clf = LogisticRegression()\n",
    "clf.fit(X_train, y_train)"
   ]
  },
  {
   "cell_type": "code",
   "execution_count": 96,
   "metadata": {},
   "outputs": [
    {
     "name": "stdout",
     "output_type": "stream",
     "text": [
      "Accuracy:0.768\n"
     ]
    }
   ],
   "source": [
    "y_pred = clf.predict(X_test)\n",
    "print(\"Accuracy:{0:.3f}\".format(metrics.accuracy_score(y_test, y_pred)))"
   ]
  },
  {
   "cell_type": "code",
   "execution_count": 97,
   "metadata": {},
   "outputs": [
    {
     "name": "stdout",
     "output_type": "stream",
     "text": [
      "Counter({0: 1250})\n",
      "[[0, 0, 960], [1, 0, 290]]\n"
     ]
    }
   ],
   "source": [
    "print(Counter(y_pred))\n",
    "\n",
    "listOfItems = np.vstack((y_test.values, y_pred)).T.tolist()\n",
    "setOfItems = []\n",
    "newListOfItems = []\n",
    "for item in listOfItems:\n",
    "    if item in setOfItems:\n",
    "        continue\n",
    "    setOfItems.append(item)\n",
    "    temp = list(item)\n",
    "    occurence = listOfItems.count(item)\n",
    "    temp.append(occurence)\n",
    "    newListOfItems.append(temp)\n",
    "\n",
    "print(newListOfItems)"
   ]
  },
  {
   "cell_type": "code",
   "execution_count": 98,
   "metadata": {},
   "outputs": [
    {
     "data": {
      "text/plain": [
       "0.7653337106969671"
      ]
     },
     "execution_count": 98,
     "metadata": {},
     "output_type": "execute_result"
    }
   ],
   "source": [
    "clf = LogisticRegression()\n",
    "\n",
    "scores = cross_val_score(clf, X_train, y_train, cv=5)\n",
    "logistic_regression_draw_score = np.average(scores)\n",
    "logistic_regression_draw_score"
   ]
  },
  {
   "cell_type": "markdown",
   "metadata": {},
   "source": [
    "The draw is the easiest to predict. This could be because there are a lot less draws and the algorithm will almost never predict a draw."
   ]
  },
  {
   "cell_type": "markdown",
   "metadata": {},
   "source": [
    "### SVM\n",
    "The last algorithm I wanted to try is SVM. SVM is mostly used for classification problems and tries to divide the different classifications with a hyper-plane."
   ]
  },
  {
   "cell_type": "code",
   "execution_count": 99,
   "metadata": {},
   "outputs": [],
   "source": [
    "matches_X = matches_custom[['rating_home','rating_away','previous_matches_home_wins','previous_matches_home_losses',\n",
    "                'previous_matches_away_wins','previous_matches_away_losses','previous_encounters_home_win',\n",
    "                'previous_encounters_home_losses']]\n",
    "matches_y = matches_custom['result']\n",
    "matches_y = matches_y.astype('int')\n",
    "\n",
    "X_train, X_test, y_train, y_test = train_test_split(matches_X, matches_y, test_size=0.25, random_state=33)"
   ]
  },
  {
   "cell_type": "code",
   "execution_count": 100,
   "metadata": {},
   "outputs": [
    {
     "data": {
      "text/plain": [
       "SVC(C=1.0, cache_size=200, class_weight=None, coef0=0.0,\n",
       "  decision_function_shape='ovr', degree=3, gamma='auto', kernel='linear',\n",
       "  max_iter=-1, probability=False, random_state=None, shrinking=True,\n",
       "  tol=0.001, verbose=False)"
      ]
     },
     "execution_count": 100,
     "metadata": {},
     "output_type": "execute_result"
    }
   ],
   "source": [
    "from sklearn import svm\n",
    "\n",
    "clf = svm.SVC(kernel='linear')\n",
    "clf.fit(X_train, y_train)"
   ]
  },
  {
   "cell_type": "code",
   "execution_count": 101,
   "metadata": {},
   "outputs": [
    {
     "name": "stdout",
     "output_type": "stream",
     "text": [
      "Accuracy:0.538\n"
     ]
    }
   ],
   "source": [
    "y_pred = clf.predict(X_test)\n",
    "print(\"Accuracy:{0:.3f}\".format(metrics.accuracy_score(y_test, y_pred)))"
   ]
  },
  {
   "cell_type": "code",
   "execution_count": 102,
   "metadata": {},
   "outputs": [
    {
     "data": {
      "text/plain": [
       "array([0, 1, 2])"
      ]
     },
     "execution_count": 102,
     "metadata": {},
     "output_type": "execute_result"
    }
   ],
   "source": [
    "np.unique(y_pred)"
   ]
  },
  {
   "cell_type": "markdown",
   "metadata": {},
   "source": [
    "The accuracy with SVM is also pretty good with 53%. The unique values show that the model does predict wins, draws and losses."
   ]
  },
  {
   "cell_type": "code",
   "execution_count": 103,
   "metadata": {},
   "outputs": [
    {
     "data": {
      "text/plain": [
       "0.5461319736864717"
      ]
     },
     "execution_count": 103,
     "metadata": {},
     "output_type": "execute_result"
    }
   ],
   "source": [
    "clf = svm.SVC(kernel='linear')\n",
    "\n",
    "scores = cross_val_score(clf, X_train, y_train, cv=5)\n",
    "svm_score = np.average(scores)\n",
    "svm_score"
   ]
  },
  {
   "cell_type": "markdown",
   "metadata": {},
   "source": [
    "The cross validation shows that the score of this algorithm is 54% which is equal to the accuracy of the random forest with only the ratings."
   ]
  },
  {
   "cell_type": "markdown",
   "metadata": {},
   "source": [
    "### Conclusions"
   ]
  },
  {
   "cell_type": "markdown",
   "metadata": {},
   "source": [
    "Predicting a win for the algorithm is a lot easier for the algorithm then predicting the actual outcome in loss, draw or win. This is logical because the chance for predicting a win right is already 50%. The outcome of logical regression on this one was 64%. The random forest with only the ratings had a better result than with all the variables. The accuracy with this was 54%. This was equal to the outcome of everything with SVM."
   ]
  },
  {
   "cell_type": "code",
   "execution_count": 104,
   "metadata": {},
   "outputs": [
    {
     "data": {
      "image/png": "[encoded data removed]",
      "text/plain": [
       "<Figure size 720x360 with 1 Axes>"
      ]
     },
     "metadata": {},
     "output_type": "display_data"
    }
   ],
   "source": [
    "#Graph of all alogrithm scores compared.\n",
    "\n",
    "fig, ax = plt.subplots(1,1,figsize=(10,5))\n",
    "# Example data\n",
    "algorithms = ('Logistic Regression Draw', 'Logistic Regression Loss', 'Logistic Regression Win', 'SVM',\n",
    "              'Random Forest rating parameters', 'Decision Tree rating parameters', 'Random Forest all parameters', \n",
    "              'Decision Tree all parameters', 'Naive Bayes all parameters', 'Naive Bayes 4 parameters')\n",
    "scores  = (logistic_regression_draw_score, logistic_regression_loss_score, logistic_regression_win_score, svm_score, \n",
    "           random_forest_rating_param_score, decision_tree_rating_param_score, random_forest_all_param_score,\n",
    "           decision_tree_all_param_score, naive_bayes_all_param_score, naive_bayes_4_param_score)\n",
    "\n",
    "\n",
    "y_pos = np.arange(len(algorithms))\n",
    "\n",
    "ax.barh(y_pos, scores, align='center')\n",
    "ax.set_xticks(np.arange(0, 1, step=0.1))\n",
    "ax.set_yticks(y_pos)\n",
    "ax.set_yticklabels(algorithms)\n",
    "ax.invert_yaxis()  # labels read top-to-bottom\n",
    "ax.set_xlabel('Accuracy score')\n",
    "\n",
    "plt.show()"
   ]
  }
 ],
 "metadata": {
  "kernelspec": {
   "display_name": "Python 3",
   "language": "python",
   "name": "python3"
  },
  "language_info": {
   "codemirror_mode": {
    "name": "ipython",
    "version": 3
   },
   "file_extension": ".py",
   "mimetype": "text/x-python",
   "name": "python",
   "nbconvert_exporter": "python",
   "pygments_lexer": "ipython3",
   "version": "3.6.5"
  }
 },
 "nbformat": 4,
 "nbformat_minor": 2
}
